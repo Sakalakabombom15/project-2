{
  "nbformat": 4,
  "nbformat_minor": 0,
  "metadata": {
    "colab": {
      "provenance": [],
      "include_colab_link": true
    },
    "kernelspec": {
      "name": "python3",
      "display_name": "Python 3"
    },
    "language_info": {
      "name": "python"
    }
  },
  "cells": [
    {
      "cell_type": "markdown",
      "metadata": {
        "id": "view-in-github",
        "colab_type": "text"
      },
      "source": [
        "<a href=\"https://colab.research.google.com/github/Sakalakabombom15/project-2/blob/main/Session_7_Programming_I.ipynb\" target=\"_parent\"><img src=\"https://colab.research.google.com/assets/colab-badge.svg\" alt=\"Open In Colab\"/></a>"
      ]
    },
    {
      "cell_type": "markdown",
      "source": [
        "# Section 1 - Introduction to **Python**\n",
        "\n",
        "\n",
        "\n"
      ],
      "metadata": {
        "id": "XLYNQPRZ6pZE"
      }
    },
    {
      "cell_type": "markdown",
      "source": [
        "## Section 1.1"
      ],
      "metadata": {
        "id": "gqQVZRKa67G4"
      }
    },
    {
      "cell_type": "markdown",
      "source": [
        "### Section 1.1.1"
      ],
      "metadata": {
        "id": "kFD43SlF7DYm"
      }
    },
    {
      "cell_type": "markdown",
      "source": [
        "# Print Command\n",
        "**Basic Print Code**"
      ],
      "metadata": {
        "id": "P93bOvXn1_FW"
      }
    },
    {
      "cell_type": "code",
      "execution_count": null,
      "metadata": {
        "colab": {
          "base_uri": "https://localhost:8080/"
        },
        "id": "VLaQxH1URLmv",
        "outputId": "4973e814-d600-4cad-c6a4-bfb15bc5a047"
      },
      "outputs": [
        {
          "output_type": "stream",
          "name": "stdout",
          "text": [
            "Hello Farah!!!!\n",
            "5\n"
          ]
        }
      ],
      "source": [
        "print(\"Hello Farah!!!!\") #ini adalah String\n",
        "print(5) #ini adalah integer"
      ]
    },
    {
      "cell_type": "markdown",
      "source": [
        "##Sequence"
      ],
      "metadata": {
        "id": "fBTyP7-jSbUD"
      }
    },
    {
      "cell_type": "code",
      "source": [
        "print(\"   /|\")\n",
        "print(\"  / |\")\n",
        "print(\" /  |\")\n",
        "print(\"/___|\")"
      ],
      "metadata": {
        "colab": {
          "base_uri": "https://localhost:8080/"
        },
        "id": "QH8t1ZD2R78w",
        "outputId": "77b06194-4bdf-45bd-add8-914e44f533fc"
      },
      "execution_count": null,
      "outputs": [
        {
          "output_type": "stream",
          "name": "stdout",
          "text": [
            "   /|\n",
            "  / |\n",
            " /  |\n",
            "/___|\n"
          ]
        }
      ]
    },
    {
      "cell_type": "markdown",
      "source": [
        "##Variables and Datatypes"
      ],
      "metadata": {
        "id": "tkRd20bOSqnG"
      }
    },
    {
      "cell_type": "code",
      "source": [
        "# Boolean\n",
        "laki = False\n",
        "perempuan = True\n",
        "print(laki)\n",
        "\n",
        "# String\n",
        "namaku = \"Farah Yulianti\"\n",
        "# namaku = \"Alivia\"\n",
        "# no_tlp = \"081727272626\"\n",
        "print(no_tlp)\n",
        "\n",
        "# Integer\n",
        "umurku = 23\n",
        "tahunKelahiran = 2003\n",
        "tahunSekarang = 2022\n",
        "# print(umurku)\n",
        "# print(tahunSekarang - tahunKelahiran)\n",
        "\n",
        "# Float\n",
        "GPA = 4.563466\n",
        "# print(GPA)\n",
        "\n",
        "# Complex number\n",
        "angka = 2+2j\n",
        "# print(angka)\n",
        "\n",
        "print(type(laki))\n",
        "print(type(GPA))\n",
        "print(type(angka))\n",
        "print(type(umurku))"
      ],
      "metadata": {
        "colab": {
          "base_uri": "https://localhost:8080/"
        },
        "id": "kroKDkaJSd1-",
        "outputId": "c830578a-3b81-4155-a96f-7a9e03ea96a1"
      },
      "execution_count": null,
      "outputs": [
        {
          "output_type": "stream",
          "name": "stdout",
          "text": [
            "False\n",
            "081727272626\n",
            "<class 'bool'>\n",
            "<class 'float'>\n",
            "<class 'complex'>\n",
            "<class 'int'>\n"
          ]
        }
      ]
    },
    {
      "cell_type": "markdown",
      "source": [
        "##Jenis2 Format"
      ],
      "metadata": {
        "id": "6ZJTa8--Z8LD"
      }
    },
    {
      "cell_type": "code",
      "source": [
        "namaku1 = \"Nabila\"\n",
        "umurku1 = 27 #Int"
      ],
      "metadata": {
        "id": "s_YGyHl_8ZQ0"
      },
      "execution_count": null,
      "outputs": []
    },
    {
      "cell_type": "code",
      "source": [
        "# Cara pertama (+)\n",
        "print(\"Halo, namaku \" + namaku1)\n",
        "print(\"Halo, umurku \" + str(umurku1)) # + itu adalah concatenate. dipakai untuk string\n",
        "\n",
        "# Cara kedua (,)\n",
        "print(\"Umurku\", umurku1)"
      ],
      "metadata": {
        "id": "CinhUzok1K-O",
        "colab": {
          "base_uri": "https://localhost:8080/"
        },
        "outputId": "62c2cca7-edb1-4c90-ba46-889f4a7c933d"
      },
      "execution_count": null,
      "outputs": [
        {
          "output_type": "stream",
          "name": "stdout",
          "text": [
            "Halo, namaku Nabila\n",
            "Halo, umurku 27\n",
            "Umurku 27\n"
          ]
        }
      ]
    },
    {
      "cell_type": "code",
      "source": [
        "a = \"Gigih\"\n",
        "b = \"Ramadhani\"\n",
        "c = 22\n",
        "print(\"Saya \" + a + \" \" +b + \" \" + str(c)) #Cara lama (Python 2)\n",
        "print(\"Saya\",a,b,c) #(Python 3)\n",
        "\n",
        "# print(a,b)\n",
        "#print(b)"
      ],
      "metadata": {
        "id": "esSirf4CP76E"
      },
      "execution_count": null,
      "outputs": []
    },
    {
      "cell_type": "code",
      "source": [
        "print(\"Halo, namaku\", namaku)\n",
        "print(\"Umurku\", umurku)"
      ],
      "metadata": {
        "id": "4cZACgK31O_-"
      },
      "execution_count": null,
      "outputs": []
    },
    {
      "cell_type": "code",
      "source": [
        "# %-Formatting\n",
        "print(\"Halo, namaku %s.\\nUmurku %s. %s umur %s\" % (namaku, umurku, namaku, umurku))\n",
        "# \\n artinya adalah enter"
      ],
      "metadata": {
        "id": "WvWRveGn1YlJ"
      },
      "execution_count": null,
      "outputs": []
    },
    {
      "cell_type": "code",
      "source": [
        "# str.format()\n",
        "print(\"Halo, namaku {nama}.\\nUmurku {umur}.\\n{nama} umur {umur}\".format(nama = namaku, umur = umurku))"
      ],
      "metadata": {
        "id": "_SK76fWH1eJH"
      },
      "execution_count": null,
      "outputs": []
    },
    {
      "cell_type": "code",
      "source": [
        "# f-String\n",
        "print(f\"Halo, namaku {namaku}.\\nUmurku {umurku}.\\n{namaku} umur {umurku}\")\n",
        "print(f\"Halo, namaku {namaku}.\\nUmurku {umurku}.\\n{namaku} umur {tahunSekarang - tahunKelahiran}\")\n",
        "print(f\"{{{tahunSekarang - tahunKelahiran}}}\")"
      ],
      "metadata": {
        "id": "yL2FszAFVGd2"
      },
      "execution_count": null,
      "outputs": []
    },
    {
      "cell_type": "code",
      "source": [],
      "metadata": {
        "id": "1a44RDpO9Qng"
      },
      "execution_count": null,
      "outputs": []
    },
    {
      "cell_type": "code",
      "source": [],
      "metadata": {
        "id": "z-JnUii19QyM"
      },
      "execution_count": null,
      "outputs": []
    },
    {
      "cell_type": "markdown",
      "source": [
        "##Import Library"
      ],
      "metadata": {
        "id": "DVwzcYSNB0Ut"
      }
    },
    {
      "cell_type": "code",
      "source": [
        "# Menginstall Library pandas\n",
        "!pip install pandas"
      ],
      "metadata": {
        "id": "IT53xS8-BkzV",
        "colab": {
          "base_uri": "https://localhost:8080/"
        },
        "outputId": "492803b6-43cb-4231-b9db-0c736547b643"
      },
      "execution_count": null,
      "outputs": [
        {
          "output_type": "stream",
          "name": "stdout",
          "text": [
            "Requirement already satisfied: pandas in /usr/local/lib/python3.10/dist-packages (1.5.3)\n",
            "Requirement already satisfied: python-dateutil>=2.8.1 in /usr/local/lib/python3.10/dist-packages (from pandas) (2.8.2)\n",
            "Requirement already satisfied: pytz>=2020.1 in /usr/local/lib/python3.10/dist-packages (from pandas) (2023.4)\n",
            "Requirement already satisfied: numpy>=1.21.0 in /usr/local/lib/python3.10/dist-packages (from pandas) (1.25.2)\n",
            "Requirement already satisfied: six>=1.5 in /usr/local/lib/python3.10/dist-packages (from python-dateutil>=2.8.1->pandas) (1.16.0)\n"
          ]
        }
      ]
    },
    {
      "cell_type": "code",
      "source": [
        "import tensorflow as tf #Library\n",
        "import numpy as np\n",
        "import pandas as pd\n",
        "from sklearn.neighbors import NearestNeighbors #Library\n",
        "from sklearn.metrics import accuracy_score"
      ],
      "metadata": {
        "id": "tCBhfs-gB3Tn"
      },
      "execution_count": null,
      "outputs": []
    },
    {
      "cell_type": "code",
      "source": [],
      "metadata": {
        "id": "QUCdW08pU7x7"
      },
      "execution_count": null,
      "outputs": []
    },
    {
      "cell_type": "code",
      "source": [],
      "metadata": {
        "id": "GOxOPzsHU76V"
      },
      "execution_count": null,
      "outputs": []
    },
    {
      "cell_type": "code",
      "source": [],
      "metadata": {
        "id": "et9SjH_3U8Az"
      },
      "execution_count": null,
      "outputs": []
    },
    {
      "cell_type": "code",
      "source": [],
      "metadata": {
        "id": "7k4jGK5sU8GK"
      },
      "execution_count": null,
      "outputs": []
    },
    {
      "cell_type": "markdown",
      "source": [
        "## Arithmethic Operation"
      ],
      "metadata": {
        "id": "q3DEk9V7055D"
      }
    },
    {
      "cell_type": "code",
      "source": [
        "import math\n",
        "a = 13.0\n",
        "b = 3\n",
        "c = 81\n",
        "d = -4\n",
        "\n",
        "# print(type(a))\n",
        "print(a + b)\n",
        "print(a * b)\n",
        "print(a - b)\n",
        "print(a / b)\n",
        "print(a // b)\n",
        "print(a % b)\n",
        "print(a ** b) #Pangkat\n",
        "print(pow(a,b)) #Pangkat\n",
        "print(abs(d)) #Absolute (negative jd positive)\n",
        "print(math.sqrt(c))\n",
        "\n",
        "print(max(3,4,5,6,10))\n",
        "print(min(3,4,5,6,10))"
      ],
      "metadata": {
        "id": "6tLwfVmWZcZo"
      },
      "execution_count": null,
      "outputs": []
    },
    {
      "cell_type": "code",
      "source": [],
      "metadata": {
        "id": "Qx4V5cvNVzxI"
      },
      "execution_count": null,
      "outputs": []
    },
    {
      "cell_type": "code",
      "source": [],
      "metadata": {
        "id": "8owWFSW4Vz7U"
      },
      "execution_count": null,
      "outputs": []
    },
    {
      "cell_type": "code",
      "source": [],
      "metadata": {
        "id": "sCoC_b5ZV0D7"
      },
      "execution_count": null,
      "outputs": []
    },
    {
      "cell_type": "markdown",
      "source": [
        "##Logical Operator"
      ],
      "metadata": {
        "id": "wUnaKZIM_tmf"
      }
    },
    {
      "cell_type": "code",
      "source": [
        "x = 5\n",
        "y = 12\n",
        "z = 20\n",
        "\n",
        "# AND = HARUS TRUE SEMUA UNTUK HASIL TRUE\n",
        "# OR = SALAH SATU TRUE YA UDAH TRUE\n",
        "# NOT = KEBALIKANNYA DARI HASIL OPERATOR AND / OR\n",
        "\n",
        "print(x > 3 and y < 10) #False\n",
        "print(x > 3 or y < 4) #True\n",
        "print(not(x > 5 and y < 12))#True\n",
        "print((x > 3 and y < 12) or z < 30)"
      ],
      "metadata": {
        "id": "wMDjnvFe_xZ4"
      },
      "execution_count": null,
      "outputs": []
    },
    {
      "cell_type": "code",
      "source": [],
      "metadata": {
        "id": "T3IEFwO7YCEA"
      },
      "execution_count": null,
      "outputs": []
    },
    {
      "cell_type": "code",
      "source": [],
      "metadata": {
        "id": "90rj5oWNYCOe"
      },
      "execution_count": null,
      "outputs": []
    },
    {
      "cell_type": "code",
      "source": [],
      "metadata": {
        "id": "TkrSPYNAYCXN"
      },
      "execution_count": null,
      "outputs": []
    },
    {
      "cell_type": "code",
      "source": [],
      "metadata": {
        "id": "Z-3jTwIsZhBK"
      },
      "execution_count": null,
      "outputs": []
    },
    {
      "cell_type": "markdown",
      "source": [
        "##Conditional"
      ],
      "metadata": {
        "id": "1OsjT-kbC0sU"
      }
    },
    {
      "cell_type": "code",
      "source": [
        "a = 600\n",
        "b = 30\n",
        "\n",
        "if b > a:\n",
        "  print(\"b lebih besar dari a\")\n",
        "else:\n",
        "  print(\"ini a lho yg lbh gede\")\n"
      ],
      "metadata": {
        "id": "DgwEWqCWC2YQ"
      },
      "execution_count": null,
      "outputs": []
    },
    {
      "cell_type": "code",
      "source": [
        "a = 90 #1000, 8, 9, 90\n",
        "b = 33\n",
        "c = 190\n",
        "\n",
        "# = maka assign nilai\n",
        "# == maka compare nilai\n",
        "\n",
        "if (a > b or a > c) and a >= 1000:\n",
        "  print(\"A adalah yg terbesar\")\n",
        "elif (a == 9):\n",
        "  print(\"A adalah 9\")\n",
        "elif (a > b or a > c) and a <= 1000:\n",
        "  print(\"Salah Satu kondisi adalah Benar\")\n",
        "else:\n",
        "  print(\"Semua salah\")"
      ],
      "metadata": {
        "id": "qjzrSqVTHBBO"
      },
      "execution_count": null,
      "outputs": []
    },
    {
      "cell_type": "code",
      "source": [
        "\n",
        "# if a > b and c > a and c < 1000:\n",
        "#   print(\"Kedua kondisi Benar\")\n",
        "#   s = 20\n",
        "# elif a > b and a > c:\n",
        "#   print(\"a itu terbesar\")\n",
        "#   s = 40\n",
        "# elif c > b and c > a and c > 1000:\n",
        "#   print(\"C itu terbesar\")\n",
        "#   s = 50\n",
        "# else:\n",
        "#   print(\"ada yg salah tuh\")\n",
        "#   s = 0\n"
      ],
      "metadata": {
        "id": "sg2nmPBwZo4Q"
      },
      "execution_count": null,
      "outputs": []
    },
    {
      "cell_type": "markdown",
      "source": [
        "##Nested If"
      ],
      "metadata": {
        "id": "4fhSSs0IEAUO"
      }
    },
    {
      "cell_type": "code",
      "source": [
        "x = 21 #9,19,21\n",
        "\n",
        "# indent\n",
        "if x > 10:\n",
        "  print(\"Diatas sepuluh,\")\n",
        "  if x > 20:\n",
        "    print(\"Diatas 20 juga!!\")\n",
        "  else:\n",
        "    print(\"tapi tidak diatas 20.\")\n",
        "else:\n",
        "  print(\"Nilai dibawah 10\")"
      ],
      "metadata": {
        "id": "fNOaY9q-D_Ax"
      },
      "execution_count": null,
      "outputs": []
    },
    {
      "cell_type": "code",
      "source": [],
      "metadata": {
        "id": "3tLwW_4kAD_h"
      },
      "execution_count": null,
      "outputs": []
    },
    {
      "cell_type": "code",
      "source": [],
      "metadata": {
        "id": "3GxT1ffOAEF_"
      },
      "execution_count": null,
      "outputs": []
    },
    {
      "cell_type": "markdown",
      "source": [
        "# List"
      ],
      "metadata": {
        "id": "Ldw4DgDhADnY"
      }
    },
    {
      "cell_type": "code",
      "source": [
        "nama = [\"Farah\", \"Agil\", \"Muggy\",\"Farah\"]\n",
        "Jabatan = [\"Tutor DS18\", \"Tutor DS16\", \"Tutor DS12\"]"
      ],
      "metadata": {
        "id": "BJ3xNR5fAJWq"
      },
      "execution_count": null,
      "outputs": []
    },
    {
      "cell_type": "code",
      "source": [
        "nama[3] = \"Aries\"\n",
        "print(nama)\n",
        "Jabatan[2] = \"Tutor Python 1\"\n",
        "\n",
        "print(Jabatan)"
      ],
      "metadata": {
        "id": "d6h9S3QiAdyy"
      },
      "execution_count": null,
      "outputs": []
    },
    {
      "cell_type": "markdown",
      "source": [
        "# Tuple"
      ],
      "metadata": {
        "id": "9P_caInjB60H"
      }
    },
    {
      "cell_type": "code",
      "source": [
        "nama_tutor = (\"Farah\", \"Agil\", \"Muggy\")\n",
        "Kota = (\"Chicago\", \"New York\", \"Tokyo\")"
      ],
      "metadata": {
        "id": "2BUcU5dkB8bf"
      },
      "execution_count": null,
      "outputs": []
    },
    {
      "cell_type": "code",
      "source": [
        "Kota[2]"
      ],
      "metadata": {
        "id": "irWIKkWqf7CZ"
      },
      "execution_count": null,
      "outputs": []
    },
    {
      "cell_type": "code",
      "source": [
        "print(Kota[2])"
      ],
      "metadata": {
        "id": "axOJ32WLRC6t"
      },
      "execution_count": null,
      "outputs": []
    },
    {
      "cell_type": "code",
      "source": [
        "nama_tutor[1]"
      ],
      "metadata": {
        "id": "Z1oH-2GQgIb5"
      },
      "execution_count": null,
      "outputs": []
    },
    {
      "cell_type": "markdown",
      "source": [
        "# Dictionary"
      ],
      "metadata": {
        "id": "uW3L_OGlC2VS"
      }
    },
    {
      "cell_type": "code",
      "source": [
        "car = {\n",
        "  \"brand\": \"Ford\",\n",
        "  \"model\": \"Mustang\",\n",
        "  \"year\": 1964,\n",
        "  \"year\": 1973\n",
        "}"
      ],
      "metadata": {
        "id": "zdpUvZV_C4AF"
      },
      "execution_count": null,
      "outputs": []
    },
    {
      "cell_type": "code",
      "source": [
        "car[\"year\"]"
      ],
      "metadata": {
        "id": "sGsyw6ObMSQ7"
      },
      "execution_count": null,
      "outputs": []
    },
    {
      "cell_type": "code",
      "source": [
        "car[\"model\"] = \"Sedan\"\n",
        "# car[\"model\"]\n",
        "\n",
        "car"
      ],
      "metadata": {
        "id": "Y0TswbSlC4DW"
      },
      "execution_count": null,
      "outputs": []
    },
    {
      "cell_type": "code",
      "source": [
        "car['model']"
      ],
      "metadata": {
        "id": "DE3Qrd57Ma62"
      },
      "execution_count": null,
      "outputs": []
    },
    {
      "cell_type": "code",
      "source": [],
      "metadata": {
        "id": "7kNga4-nSJbq"
      },
      "execution_count": null,
      "outputs": []
    }
  ]
}