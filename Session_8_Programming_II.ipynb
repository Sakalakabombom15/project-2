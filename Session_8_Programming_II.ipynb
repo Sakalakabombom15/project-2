{
  "cells": [
    {
      "cell_type": "markdown",
      "metadata": {
        "id": "view-in-github",
        "colab_type": "text"
      },
      "source": [
        "<a href=\"https://colab.research.google.com/github/Sakalakabombom15/project-2/blob/main/Session_8_Programming_II.ipynb\" target=\"_parent\"><img src=\"https://colab.research.google.com/assets/colab-badge.svg\" alt=\"Open In Colab\"/></a>"
      ]
    },
    {
      "cell_type": "markdown",
      "id": "domestic-paintball",
      "metadata": {
        "id": "domestic-paintball"
      },
      "source": [
        "# Data Types Review\n"
      ]
    },
    {
      "cell_type": "code",
      "execution_count": null,
      "id": "entertaining-prospect",
      "metadata": {
        "id": "entertaining-prospect"
      },
      "outputs": [],
      "source": [
        "#integer\n",
        "a = 2021\n",
        "print(a)"
      ]
    },
    {
      "cell_type": "code",
      "execution_count": null,
      "id": "referenced-forth",
      "metadata": {
        "id": "referenced-forth"
      },
      "outputs": [],
      "source": [
        "#float\n",
        "b = 0.2021\n",
        "print(b)"
      ]
    },
    {
      "cell_type": "code",
      "execution_count": null,
      "id": "controlled-cylinder",
      "metadata": {
        "id": "controlled-cylinder"
      },
      "outputs": [],
      "source": [
        "#data kompleks\n",
        "c = 2+21j\n",
        "print(c)"
      ]
    },
    {
      "cell_type": "code",
      "execution_count": null,
      "id": "conscious-laser",
      "metadata": {
        "id": "conscious-laser"
      },
      "outputs": [],
      "source": [
        "#string\n",
        "string = 'Ini adalah string baris tunggal'"
      ]
    },
    {
      "cell_type": "code",
      "execution_count": null,
      "id": "coordinate-hollow",
      "metadata": {
        "id": "coordinate-hollow"
      },
      "outputs": [],
      "source": [
        "string = '''Ini adalah string\n",
        "yang memiliki baris\n",
        "lebih dari satu\n",
        "bisa menggunakan tanda petik 3x'''"
      ]
    },
    {
      "cell_type": "code",
      "execution_count": null,
      "id": "gentle-syracuse",
      "metadata": {
        "id": "gentle-syracuse"
      },
      "outputs": [],
      "source": [
        "#ini komen satu baris"
      ]
    },
    {
      "cell_type": "code",
      "execution_count": null,
      "id": "unusual-newsletter",
      "metadata": {
        "id": "unusual-newsletter"
      },
      "outputs": [],
      "source": [
        "a = 2021\n",
        "print(a, \"Bertipe bilangan integer?\", isinstance(2021,int))"
      ]
    },
    {
      "cell_type": "code",
      "execution_count": null,
      "id": "freelance-wagner",
      "metadata": {
        "id": "freelance-wagner"
      },
      "outputs": [],
      "source": [
        "b= 0.2021\n",
        "print(b, \"Bertipe bilangan float?\", isinstance(0.2021,float))"
      ]
    },
    {
      "cell_type": "code",
      "execution_count": null,
      "id": "inappropriate-swimming",
      "metadata": {
        "id": "inappropriate-swimming"
      },
      "outputs": [],
      "source": [
        "#Boolean\n",
        "x = 4\n",
        "y = 2\n",
        "x == y #apakah x = y?"
      ]
    },
    {
      "cell_type": "code",
      "execution_count": null,
      "id": "creative-dining",
      "metadata": {
        "id": "creative-dining"
      },
      "outputs": [],
      "source": [
        "x = 5\n",
        "y = 6\n",
        "x < y"
      ]
    },
    {
      "cell_type": "code",
      "execution_count": null,
      "id": "sustainable-memorial",
      "metadata": {
        "id": "sustainable-memorial"
      },
      "outputs": [],
      "source": [
        "x > y"
      ]
    },
    {
      "cell_type": "markdown",
      "id": "alternate-marker",
      "metadata": {
        "id": "alternate-marker"
      },
      "source": [
        "# Slicing"
      ]
    },
    {
      "cell_type": "code",
      "execution_count": null,
      "id": "durable-texas",
      "metadata": {
        "id": "durable-texas",
        "colab": {
          "base_uri": "https://localhost:8080/"
        },
        "outputId": "224a2784-8a0b-44aa-b68d-e3c48200854f"
      },
      "outputs": [
        {
          "output_type": "stream",
          "name": "stdout",
          "text": [
            "[2, 3, 4]\n"
          ]
        }
      ],
      "source": [
        "x = [2,3,1] #Array jumlahnya adalah selalu n-1 (n adalah panjang array)\n",
        "x[2] = 4 #Mengganti Index ke-2 dari X menjadi angka 4\n",
        "print(x)"
      ]
    },
    {
      "cell_type": "code",
      "source": [
        "x[2]"
      ],
      "metadata": {
        "id": "P2H-EG0RWajZ",
        "colab": {
          "base_uri": "https://localhost:8080/"
        },
        "outputId": "dc65f779-4425-445f-d937-331d549cca94"
      },
      "id": "P2H-EG0RWajZ",
      "execution_count": null,
      "outputs": [
        {
          "output_type": "execute_result",
          "data": {
            "text/plain": [
              "4"
            ]
          },
          "metadata": {},
          "execution_count": 2
        }
      ]
    },
    {
      "cell_type": "code",
      "source": [
        "x[1]"
      ],
      "metadata": {
        "id": "u9m2K_HOWthd",
        "colab": {
          "base_uri": "https://localhost:8080/"
        },
        "outputId": "c31cd96a-4a81-4590-9470-ca1116d796bc"
      },
      "id": "u9m2K_HOWthd",
      "execution_count": null,
      "outputs": [
        {
          "output_type": "execute_result",
          "data": {
            "text/plain": [
              "3"
            ]
          },
          "metadata": {},
          "execution_count": 3
        }
      ]
    },
    {
      "cell_type": "code",
      "execution_count": null,
      "id": "younger-amino",
      "metadata": {
        "id": "younger-amino",
        "colab": {
          "base_uri": "https://localhost:8080/"
        },
        "outputId": "b284387b-954c-4b21-c87d-a9560acf543f"
      },
      "outputs": [
        {
          "output_type": "stream",
          "name": "stdout",
          "text": [
            "l\n",
            "orld\n",
            "el o\n",
            "al u\n"
          ]
        }
      ],
      "source": [
        "s = \"Hello World!\"\n",
        "print(s[3]) # huruf -l\n",
        "print(s[7:11]) #Start : stop\n",
        "print(s[1:8:2]) #Start : stop : step\n",
        "# s = \"-\"\n",
        "s = \"Hallo Dunia!\"\n",
        "print(s[1:8:2])"
      ]
    },
    {
      "cell_type": "code",
      "execution_count": null,
      "id": "married-belgium",
      "metadata": {
        "id": "married-belgium",
        "colab": {
          "base_uri": "https://localhost:8080/"
        },
        "outputId": "80a1fb94-e762-4250-e87c-156507e4ed5e"
      },
      "outputs": [
        {
          "output_type": "execute_result",
          "data": {
            "text/plain": [
              "[2021, 0.2021, 'python']"
            ]
          },
          "metadata": {},
          "execution_count": 8
        }
      ],
      "source": [
        "my_list = [2021, 0.2021, 'python'] #List itu bisa memuat banyak data type\n",
        "my_list"
      ]
    },
    {
      "cell_type": "code",
      "source": [
        "m = my_list[2]\n",
        "n = my_list[0]\n",
        "\n",
        "print(m)\n",
        "print(m[0])\n",
        "print(m,n)"
      ],
      "metadata": {
        "colab": {
          "base_uri": "https://localhost:8080/"
        },
        "id": "fOXuJ0i6R_52",
        "outputId": "870c834f-e5cc-414a-9f76-48f12be43dd6"
      },
      "id": "fOXuJ0i6R_52",
      "execution_count": null,
      "outputs": [
        {
          "output_type": "stream",
          "name": "stdout",
          "text": [
            "python\n",
            "p\n",
            "python 2021\n"
          ]
        }
      ]
    },
    {
      "cell_type": "code",
      "source": [
        "#list\n",
        "x = [10,20,30,40,50,60,70,80]"
      ],
      "metadata": {
        "id": "qghsCUjzXZQm"
      },
      "id": "qghsCUjzXZQm",
      "execution_count": null,
      "outputs": []
    },
    {
      "cell_type": "code",
      "execution_count": null,
      "id": "running-crash",
      "metadata": {
        "id": "running-crash",
        "colab": {
          "base_uri": "https://localhost:8080/"
        },
        "outputId": "2b2bc629-43f7-499f-92ce-09bede4eccad"
      },
      "outputs": [
        {
          "output_type": "stream",
          "name": "stdout",
          "text": [
            "60\n",
            "80\n",
            "[40, 50]\n",
            "[10, 20, 30, 40, 50]\n",
            "[60, 70, 80]\n",
            "[20, 40, 60]\n"
          ]
        }
      ],
      "source": [
        "print(x[5]) #60\n",
        "print(x[-1]) #80\n",
        "print(x[3:5]) #40,50\n",
        "print(x[:5]) # 10,20,30,40,50\n",
        "print(x[-3:]) #60,70,80\n",
        "print(x[1:7:2]) #20,40,60"
      ]
    },
    {
      "cell_type": "code",
      "execution_count": null,
      "id": "laughing-greek",
      "metadata": {
        "id": "laughing-greek"
      },
      "outputs": [],
      "source": [
        "#index = [0,1,2,......,n] index selalu dimulai dari 0 berurutan sampai ke-n\n",
        "data2021 = [100,90,95,85,80,20]   #ini adalah list\n",
        "\n",
        "print(data2021[1:4])\n",
        "print(data2021[:5])\n",
        "\n",
        "print(\"\\n\")\n",
        "\n",
        "print(data2021[:6:3])  # ambil data ke-1 sampai data ke-6 dengan 2 langkah\n",
        "                        # ambil index ke-0 sampai index ke-5 dengan 2 langkah\n",
        "print(data2021[-3:])  # ambil 3 data terakhir dari belakang\n",
        "print(data2021[:-3])  # ambil 3 data dari awal"
      ]
    },
    {
      "cell_type": "code",
      "source": [
        "data2021[2] = 90\n",
        "# data2021[:-3] = 100  #Pake for loop\n",
        "\n",
        "print(data2021)"
      ],
      "metadata": {
        "id": "6-PhLP9qf0va"
      },
      "id": "6-PhLP9qf0va",
      "execution_count": null,
      "outputs": []
    },
    {
      "cell_type": "code",
      "source": [
        "data2021[:-3]"
      ],
      "metadata": {
        "id": "uvSMl2ZVU0Wp"
      },
      "id": "uvSMl2ZVU0Wp",
      "execution_count": null,
      "outputs": []
    },
    {
      "cell_type": "code",
      "source": [
        "data2021[:3]"
      ],
      "metadata": {
        "id": "-po_mq7TU4Lm"
      },
      "id": "-po_mq7TU4Lm",
      "execution_count": null,
      "outputs": []
    },
    {
      "cell_type": "code",
      "execution_count": null,
      "id": "underlying-pension",
      "metadata": {
        "id": "underlying-pension"
      },
      "outputs": [],
      "source": [
        "#update data\n",
        "print(data2021[2]) #mengubah/update data ke 3 menjadi nilai 90\n",
        "print(data2021[:-3]) #slice tidak bisa update beberapa range nilai sekaligus (perlu loop)"
      ]
    },
    {
      "cell_type": "code",
      "execution_count": null,
      "id": "endangered-brook",
      "metadata": {
        "id": "endangered-brook"
      },
      "outputs": [],
      "source": [
        "#update data\n",
        "x = [2,3,1]\n",
        "x[2]=4\n",
        "print(x)"
      ]
    },
    {
      "cell_type": "code",
      "execution_count": null,
      "id": "objective-poker",
      "metadata": {
        "id": "objective-poker"
      },
      "outputs": [],
      "source": [
        "#slicing data string dan update data pada data string\n",
        "s = \"Hello World!\"\n",
        "print(s[3])         #ambil karakter keempat dari string s\n",
        "print(s[7:11])      #ambil karakter kedelapan hingga sebelas dari string s\n",
        "#s[5]=\"-\"            #ubah karakter keenam dari string s menjadi \"-\", seharusnya gagal karena immutable\n",
        "s = \"Hallo Dunia!\"  #ubah isi string s menjadi \"Halo Dunia!\", seharusnya berhasil karena mutable\n",
        "print (s)"
      ]
    },
    {
      "cell_type": "markdown",
      "id": "crucial-paragraph",
      "metadata": {
        "id": "crucial-paragraph"
      },
      "source": [
        "## Latihan slicing"
      ]
    },
    {
      "cell_type": "code",
      "execution_count": null,
      "id": "sacred-surveillance",
      "metadata": {
        "id": "sacred-surveillance",
        "colab": {
          "base_uri": "https://localhost:8080/"
        },
        "outputId": "adddf8de-6d51-4435-8522-3d00dc31c8a1"
      },
      "outputs": [
        {
          "output_type": "execute_result",
          "data": {
            "text/plain": [
              "9"
            ]
          },
          "metadata": {},
          "execution_count": 18
        }
      ],
      "source": [
        "lists = [11,12,13,14,15,16,17,18,19]\n",
        "len(lists)"
      ]
    },
    {
      "cell_type": "code",
      "execution_count": null,
      "id": "ready-cancellation",
      "metadata": {
        "id": "ready-cancellation"
      },
      "outputs": [],
      "source": [
        "#1. Ambil elemen/data ke 2-6 --> Indeks ke 1 - Indeks ke 5\n",
        "lists[1:6]"
      ]
    },
    {
      "cell_type": "code",
      "execution_count": null,
      "id": "humanitarian-australia",
      "metadata": {
        "id": "humanitarian-australia"
      },
      "outputs": [],
      "source": [
        "#2. Ambil elemen/data 1,3,5,7,9\n",
        "lists[::2] #Ini cari dari awal sampai akhir, step 2"
      ]
    },
    {
      "cell_type": "code",
      "execution_count": null,
      "id": "downtown-criterion",
      "metadata": {
        "id": "downtown-criterion",
        "colab": {
          "base_uri": "https://localhost:8080/"
        },
        "outputId": "a72d23c0-027e-4977-b017-3d3e5fbb0275"
      },
      "outputs": [
        {
          "output_type": "execute_result",
          "data": {
            "text/plain": [
              "[12, 15, 18]"
            ]
          },
          "metadata": {},
          "execution_count": 24
        }
      ],
      "source": [
        "#.3 Ambil elemen/data ke 2,5,8\n",
        "lists[1::3]"
      ]
    },
    {
      "cell_type": "code",
      "source": [
        "#.4 Ambil elemen/data ke-4 sampai elemen/data ke-9\n",
        "lists[3:]"
      ],
      "metadata": {
        "colab": {
          "base_uri": "https://localhost:8080/"
        },
        "id": "FwX-EXbEWE66",
        "outputId": "e11b9832-18de-4a08-f7ba-05f5dfd7bf0b"
      },
      "id": "FwX-EXbEWE66",
      "execution_count": null,
      "outputs": [
        {
          "output_type": "execute_result",
          "data": {
            "text/plain": [
              "[14, 15, 16, 17, 18, 19]"
            ]
          },
          "metadata": {},
          "execution_count": 25
        }
      ]
    },
    {
      "cell_type": "markdown",
      "id": "signal-yesterday",
      "metadata": {
        "id": "signal-yesterday"
      },
      "source": [
        "# Conditional"
      ]
    },
    {
      "cell_type": "code",
      "execution_count": null,
      "id": "changing-establishment",
      "metadata": {
        "id": "changing-establishment"
      },
      "outputs": [],
      "source": [
        "x = 2\n",
        "y = 2\n",
        "z = (x==y) # Comparison expression (Utk mengevaluasi false/True)\n",
        "if z: # Conditional jika z bernilai true/false\n",
        "    print(\"Bukan Sabtu\")\n",
        "else: print(\"Sabtu\")"
      ]
    },
    {
      "cell_type": "code",
      "execution_count": null,
      "id": "aware-general",
      "metadata": {
        "id": "aware-general"
      },
      "outputs": [],
      "source": [
        "x= 27\n",
        "y = 11\n",
        "\n",
        "if x < y: # Apakah x < y?\n",
        "    print('Sekarang tanggal 29 May')\n",
        "else:\n",
        "    print('Sekarang tanggal 28 May')"
      ]
    },
    {
      "cell_type": "code",
      "execution_count": null,
      "id": "thirty-grammar",
      "metadata": {
        "id": "thirty-grammar"
      },
      "outputs": [],
      "source": [
        "a = 14\n",
        "b = 14\n",
        "\n",
        "if a != b:\n",
        "  print('Sekarang Siang hari')\n",
        "else:\n",
        "  print('Sekarang Pagi hari')"
      ]
    },
    {
      "cell_type": "markdown",
      "id": "colonial-feature",
      "metadata": {
        "id": "colonial-feature"
      },
      "source": [
        "## While Loop Statement"
      ]
    },
    {
      "cell_type": "code",
      "execution_count": null,
      "id": "swiss-chorus",
      "metadata": {
        "id": "swiss-chorus"
      },
      "outputs": [],
      "source": [
        "#Tidak bisa di run\n",
        "while test_expression:\n",
        "    block_code"
      ]
    },
    {
      "cell_type": "markdown",
      "id": "damaged-relief",
      "metadata": {
        "id": "damaged-relief"
      },
      "source": [
        "print angka dari 1 sampai 10"
      ]
    },
    {
      "cell_type": "code",
      "execution_count": null,
      "id": "hollywood-badge",
      "metadata": {
        "id": "hollywood-badge",
        "colab": {
          "base_uri": "https://localhost:8080/"
        },
        "outputId": "c8e83565-d475-4b8a-fcbc-3524a3d9bbaf"
      },
      "outputs": [
        {
          "output_type": "stream",
          "name": "stdout",
          "text": [
            "1\n",
            "2\n",
            "3\n",
            "4\n",
            "5\n",
            "6\n",
            "7\n",
            "9\n",
            "10\n"
          ]
        }
      ],
      "source": [
        "# print 1 to 10\n",
        "print(1)\n",
        "print(2)\n",
        "print(3)\n",
        "print(4)\n",
        "print(5)\n",
        "print(6)\n",
        "print(7)\n",
        "print(9)\n",
        "print(10)"
      ]
    },
    {
      "cell_type": "code",
      "execution_count": null,
      "id": "continuing-report",
      "metadata": {
        "scrolled": true,
        "id": "continuing-report",
        "colab": {
          "base_uri": "https://localhost:8080/"
        },
        "outputId": "301339dc-a901-4750-f81f-2d25c176d043"
      },
      "outputs": [
        {
          "output_type": "stream",
          "name": "stdout",
          "text": [
            "1\n",
            "2\n",
            "3\n",
            "4\n",
            "5\n",
            "6\n",
            "7\n",
            "8\n",
            "9\n",
            "10\n",
            "It is done\n"
          ]
        }
      ],
      "source": [
        "# printing 1 to 10\n",
        "num = 1 # initial condition\n",
        "while num <= 10: # test expression\n",
        "  print(num) # print num\n",
        "  num = num + 1 # increment num by 1\n",
        "\n",
        "print('It is done')"
      ]
    },
    {
      "cell_type": "code",
      "source": [
        "# printing 1 to 10\n",
        "num = 1 # initial condition\n",
        "while num < 11: # test expression\n",
        "    print(num, 'iterasi ke-', num) # print num\n",
        "    num = num + 1 # increment num by 1\n",
        "\n",
        "print('It is done')\n"
      ],
      "metadata": {
        "id": "4DfZEbMDgkpv",
        "colab": {
          "base_uri": "https://localhost:8080/"
        },
        "outputId": "b2050356-1bd6-4f85-d33a-aaf826d630d1"
      },
      "id": "4DfZEbMDgkpv",
      "execution_count": null,
      "outputs": [
        {
          "output_type": "stream",
          "name": "stdout",
          "text": [
            "1 iterasi ke- 1\n",
            "2 iterasi ke- 2\n",
            "3 iterasi ke- 3\n",
            "4 iterasi ke- 4\n",
            "5 iterasi ke- 5\n",
            "6 iterasi ke- 6\n",
            "7 iterasi ke- 7\n",
            "8 iterasi ke- 8\n",
            "9 iterasi ke- 9\n",
            "10 iterasi ke- 10\n",
            "It is done\n"
          ]
        }
      ]
    },
    {
      "cell_type": "code",
      "source": [
        "i = 1\n",
        "while i < 6:\n",
        "  if(i%2 == 0): #Angka genap\n",
        "    print(\"Benjamin is good\")\n",
        "  else:\n",
        "    print(\"Benjamin is bad\")\n",
        "  i += 1  #i = i + 1"
      ],
      "metadata": {
        "id": "x9t5H5GMhovB",
        "colab": {
          "base_uri": "https://localhost:8080/"
        },
        "outputId": "8472cd97-6761-47f6-f86c-cb1731f3de7f"
      },
      "id": "x9t5H5GMhovB",
      "execution_count": null,
      "outputs": [
        {
          "output_type": "stream",
          "name": "stdout",
          "text": [
            "Benjamin is bad\n",
            "Benjamin is good\n",
            "Benjamin is bad\n",
            "Benjamin is good\n",
            "Benjamin is bad\n"
          ]
        }
      ]
    },
    {
      "cell_type": "markdown",
      "id": "recorded-fabric",
      "metadata": {
        "id": "recorded-fabric"
      },
      "source": [
        "## For Loop Statement"
      ]
    },
    {
      "cell_type": "markdown",
      "id": "aggregate-index",
      "metadata": {
        "id": "aggregate-index"
      },
      "source": [
        "Menghitung penjumlahan dari angka yang ada"
      ]
    },
    {
      "cell_type": "code",
      "execution_count": null,
      "id": "tutorial-airplane",
      "metadata": {
        "id": "tutorial-airplane"
      },
      "outputs": [],
      "source": [
        "numbers = [1, 2, 3, 4, 5, 6, 7, 8, 9, 10] # list\n",
        "numbers"
      ]
    },
    {
      "cell_type": "code",
      "execution_count": null,
      "id": "gentle-contents",
      "metadata": {
        "id": "gentle-contents"
      },
      "outputs": [],
      "source": [
        "for val in sequence:\n",
        "    block_code\n",
        "\n",
        "# val is an iterator\n",
        "# sequence is an iterable"
      ]
    },
    {
      "cell_type": "code",
      "execution_count": null,
      "id": "black-transcript",
      "metadata": {
        "scrolled": true,
        "id": "black-transcript",
        "colab": {
          "base_uri": "https://localhost:8080/"
        },
        "outputId": "de31554e-e5c7-4e77-f1db-571f305baedd"
      },
      "outputs": [
        {
          "output_type": "stream",
          "name": "stdout",
          "text": [
            "\n",
            "The sum of total currently is 55\n",
            "\n",
            "The avg of total currently is 5.5\n"
          ]
        }
      ],
      "source": [
        "total = 0\n",
        "for val in numbers:\n",
        "  total = total + val #increment + nilai dari list\n",
        "  avg = total / val\n",
        "print(\"\\nThe sum of total currently is\", total)\n",
        "print(\"\\nThe avg of total currently is\", avg)"
      ]
    },
    {
      "cell_type": "code",
      "source": [
        "number = [1,2,3,4,5,7]"
      ],
      "metadata": {
        "id": "fLT0SDgzkMoI"
      },
      "id": "fLT0SDgzkMoI",
      "execution_count": null,
      "outputs": []
    },
    {
      "cell_type": "code",
      "source": [
        "xand = [\"Haha\"]\n",
        "a = 5\n",
        "for i in number:\n",
        "  if i < a:\n",
        "    xand.append(\"True\") #Append adalah menggabungkan\n",
        "  else:\n",
        "    xand.append(\"False\")"
      ],
      "metadata": {
        "id": "uGkLzll7kFtl"
      },
      "id": "uGkLzll7kFtl",
      "execution_count": null,
      "outputs": []
    },
    {
      "cell_type": "code",
      "source": [
        "print(xand)"
      ],
      "metadata": {
        "id": "MsLXiJIQlTIV",
        "colab": {
          "base_uri": "https://localhost:8080/"
        },
        "outputId": "7601e3a1-aeff-429e-a9ac-eb3ec7cd332c"
      },
      "id": "MsLXiJIQlTIV",
      "execution_count": null,
      "outputs": [
        {
          "output_type": "stream",
          "name": "stdout",
          "text": [
            "['Haha', 'True', 'True', 'True', 'True', 'False', 'False']\n"
          ]
        }
      ]
    },
    {
      "cell_type": "code",
      "source": [
        "num = [1,2,3,4,5,6]"
      ],
      "metadata": {
        "id": "kq4LJ0MRmPrc"
      },
      "id": "kq4LJ0MRmPrc",
      "execution_count": null,
      "outputs": []
    },
    {
      "cell_type": "code",
      "source": [
        "range(3,6)"
      ],
      "metadata": {
        "id": "Tpe4CPt1mVp8",
        "colab": {
          "base_uri": "https://localhost:8080/"
        },
        "outputId": "ad0da16a-2215-482f-ade0-049079e6ee56"
      },
      "id": "Tpe4CPt1mVp8",
      "execution_count": null,
      "outputs": [
        {
          "output_type": "execute_result",
          "data": {
            "text/plain": [
              "range(3, 6)"
            ]
          },
          "metadata": {},
          "execution_count": 41
        }
      ]
    },
    {
      "cell_type": "code",
      "execution_count": null,
      "id": "german-wedding",
      "metadata": {
        "id": "german-wedding",
        "colab": {
          "base_uri": "https://localhost:8080/"
        },
        "outputId": "7f044035-4d20-4db5-fe74-f2da9ac99b2d"
      },
      "outputs": [
        {
          "output_type": "stream",
          "name": "stdout",
          "text": [
            "3\n",
            "4\n",
            "5\n"
          ]
        }
      ],
      "source": [
        "# printing 3 to 5\n",
        "a=0\n",
        "for i in range(3, 6):\n",
        "  num = a+1\n",
        "  print(i)\n"
      ]
    },
    {
      "cell_type": "code",
      "execution_count": null,
      "id": "prostate-agriculture",
      "metadata": {
        "id": "prostate-agriculture"
      },
      "outputs": [],
      "source": [
        "words = ['hello', 'world', 'hi', 'everyone'] # list\n",
        "\n",
        "for w in words:\n",
        "    print(w +'!')\n",
        "\n",
        "# mengiterasi sebuah list, dictionary, tuple, for loop\n",
        "# mengiterasi berdasarkan sebuah prasyarat / kondisi, while loop\n"
      ]
    },
    {
      "cell_type": "code",
      "execution_count": null,
      "id": "tested-indonesian",
      "metadata": {
        "id": "tested-indonesian"
      },
      "outputs": [],
      "source": [
        "words = ['hello', 'world', 'hi', 'everyone']\n",
        "counter = 0\n",
        "number = len(words) #Maksimum list\n",
        "\n",
        "while counter < number:\n",
        "    word = words[counter]\n",
        "    print(word + ' !')\n",
        "    counter = counter + 1"
      ]
    },
    {
      "cell_type": "markdown",
      "id": "several-volunteer",
      "metadata": {
        "id": "several-volunteer"
      },
      "source": [
        "## Nested Loop"
      ]
    },
    {
      "cell_type": "code",
      "execution_count": null,
      "id": "female-dodge",
      "metadata": {
        "id": "female-dodge",
        "colab": {
          "base_uri": "https://localhost:8080/"
        },
        "outputId": "9178b022-fae9-400d-c410-ca8ce47265f2"
      },
      "outputs": [
        {
          "output_type": "stream",
          "name": "stdout",
          "text": [
            "1 hello\n",
            "1 world\n",
            "1 hi\n",
            "1 everyone\n",
            "1 welcome\n",
            "2 hello\n",
            "2 world\n",
            "2 hi\n",
            "2 everyone\n",
            "2 welcome\n",
            "3 hello\n",
            "3 world\n",
            "3 hi\n",
            "3 everyone\n",
            "3 welcome\n",
            "4 hello\n",
            "4 world\n",
            "4 hi\n",
            "4 everyone\n",
            "4 welcome\n"
          ]
        }
      ],
      "source": [
        "numbers = [\"1\", \"2\", \"3\", \"4\"]\n",
        "words = ['hello', 'world', 'hi', 'everyone','welcome']\n",
        "\n",
        "for i in numbers: # outer loop\n",
        "    for word in words: # inner loop\n",
        "        print(i + \" \" + word)\n",
        "\n",
        "# hasil nested loop = jumlah iterasi inner loop x jumlah iterasi outer loop"
      ]
    },
    {
      "cell_type": "markdown",
      "id": "worth-luxury",
      "metadata": {
        "id": "worth-luxury"
      },
      "source": [
        "## Break and Continue Statement"
      ]
    },
    {
      "cell_type": "markdown",
      "id": "essential-plaintiff",
      "metadata": {
        "id": "essential-plaintiff"
      },
      "source": [
        "**Check even numbers only**"
      ]
    },
    {
      "cell_type": "code",
      "execution_count": null,
      "id": "chicken-people",
      "metadata": {
        "id": "chicken-people"
      },
      "outputs": [],
      "source": [
        "numbers = [1, 2, 3, 4, 5, 6, 7, 8, 9, 10]\n",
        "\n",
        "#print only even number\n",
        "for num in numbers:\n",
        "    if num % 2 != 0: #Ganjil\n",
        "        continue\n",
        "    else:\n",
        "        print(num)"
      ]
    },
    {
      "cell_type": "markdown",
      "id": "threatened-american",
      "metadata": {
        "id": "threatened-american"
      },
      "source": [
        "**Terminate printing if \"a\" alphabet is appear**"
      ]
    },
    {
      "cell_type": "code",
      "execution_count": null,
      "id": "together-supply",
      "metadata": {
        "id": "together-supply"
      },
      "outputs": [],
      "source": [
        "string = 'hello hallo'\n",
        "\n",
        "for s in string:\n",
        "    if s == 'a':\n",
        "        break\n",
        "    print(s)"
      ]
    },
    {
      "cell_type": "markdown",
      "source": [
        "# Contoh Soal"
      ],
      "metadata": {
        "id": "nKNOInSKx5Ii"
      },
      "id": "nKNOInSKx5Ii"
    },
    {
      "cell_type": "code",
      "source": [
        "# Berikan 2 ke variable apple_price\n",
        "apple_price = 2\n",
        "\n",
        "# Berikan 5 ke variable count\n",
        "count = 5\n",
        "\n",
        "# Berikan hasil dari apple_price * count ke variable total_price\n",
        "total_price = apple_price * count\n",
        "\n",
        "# Dengan menggunakan variable count, cetak 'Anda akan membeli .. apel'\n",
        "print(\"Anda akan membeli\", count, \"apel\")\n",
        "\n",
        "# Dengan menggunakan variable total_price, cetak 'Harga total adalah .. dolar'\n",
        "print(\"Harga total adalah\", total_price ,\"dolar\")"
      ],
      "metadata": {
        "id": "UzO_gxY5x4P_",
        "outputId": "98ab85ad-e382-4528-8d74-25170d20815d",
        "colab": {
          "base_uri": "https://localhost:8080/"
        }
      },
      "id": "UzO_gxY5x4P_",
      "execution_count": null,
      "outputs": [
        {
          "output_type": "stream",
          "name": "stdout",
          "text": [
            "Anda akan membeli 5 apel\n",
            "Harga total adalah 10 dolar\n"
          ]
        }
      ]
    },
    {
      "cell_type": "code",
      "source": [
        "fruits = ('apel', 'pisang', 'jeruk',2,3,4,5)\n",
        "\n",
        "for fruit in fruits:\n",
        "  if(isinstance(fruit, int)): #cek kondisi apabila tipe data adalah integer\n",
        "    print(\"Saya suka angka\", fruit)\n",
        "  else:\n",
        "    print(\"Saya suka makan\", fruit)"
      ],
      "metadata": {
        "id": "_cSCsb7ux4Y5",
        "colab": {
          "base_uri": "https://localhost:8080/"
        },
        "outputId": "7e047e8f-e230-4e02-dfc6-4fb84bd631d4"
      },
      "id": "_cSCsb7ux4Y5",
      "execution_count": null,
      "outputs": [
        {
          "output_type": "stream",
          "name": "stdout",
          "text": [
            "Saya suka makan apel\n",
            "Saya suka makan pisang\n",
            "Saya suka makan jeruk\n",
            "Saya suka angka 2\n",
            "Saya suka angka 3\n",
            "Saya suka angka 4\n",
            "Saya suka angka 5\n"
          ]
        }
      ]
    },
    {
      "cell_type": "code",
      "source": [
        "fruits = {'apel': 'apple',\n",
        "          'jeruk': 'orange',\n",
        "          'anggur': 'grape',\n",
        "          \"Satu\":1,\n",
        "          \"Dua\":2,\n",
        "          \"Tiga\":3}\n",
        "\n",
        "#Key : value\n",
        "\n",
        "# Dengan loop for, cetak '___ adalah ___ dalam bahasa Inggris'\n",
        "for fruit_key in fruits:\n",
        "  if(isinstance(fruits[fruit_key], str)):\n",
        "    print(fruit_key+\" adalah \" + fruits[fruit_key]+ \" dalam bahasa Inggris\")\n",
        "  else:\n",
        "    print(fruit_key, \"adalah\", fruits[fruit_key], \"dalam notasi angka\")"
      ],
      "metadata": {
        "id": "bYILXpxsyAGR",
        "colab": {
          "base_uri": "https://localhost:8080/"
        },
        "outputId": "94596663-2fcb-423c-a3df-7e26dad6e8e9"
      },
      "id": "bYILXpxsyAGR",
      "execution_count": null,
      "outputs": [
        {
          "output_type": "stream",
          "name": "stdout",
          "text": [
            "apel adalah apple dalam bahasa Inggris\n",
            "jeruk adalah orange dalam bahasa Inggris\n",
            "anggur adalah grape dalam bahasa Inggris\n",
            "Satu adalah 1 dalam notasi angka\n",
            "Dua adalah 2 dalam notasi angka\n",
            "Tiga adalah 3 dalam notasi angka\n"
          ]
        }
      ]
    },
    {
      "cell_type": "code",
      "source": [
        "items = {\"nama_barang\":\"apel\",\n",
        "         \"deskripsi\":[{\n",
        "            \"harga\":20,\n",
        "            \"foto\":\"assets/images/apple.jpg\",\n",
        "            \"qty\":100\n",
        "            }],\n",
        "         \"nama_barang\":\"jeruk\",\n",
        "         \"deskripsi\":[{\n",
        "            \"harga\":25,\n",
        "            \"foto\":\"assets/images/jeruk.jpg\",\n",
        "            \"qty\":150\n",
        "            }]\n",
        "         }\n",
        "\n",
        "# [] = List atau array\n",
        "# () = Tuple\n",
        "# {} = Dictionary"
      ],
      "metadata": {
        "id": "_vLgysaYyB97"
      },
      "id": "_vLgysaYyB97",
      "execution_count": null,
      "outputs": []
    },
    {
      "cell_type": "code",
      "source": [
        "# Berikan 20 ke variable money\n",
        "money = 20\n",
        "\n",
        "items = {'apel': 2, 'pisang': 4, 'jeruk': 6}\n",
        "for item_name in items:\n",
        "    print('--------------------------------------------------')\n",
        "    # Menggunakan variable money, cetak 'Anda memiliki ___ dolar di dompet Anda'\n",
        "    print(\"Anda memiliki \" + str(money) + \" dolar di dompet Anda\")\n",
        "\n",
        "    print('Harga setiap ' + item_name + ' ' + str(items[item_name]) + ' dolar')\n",
        "\n",
        "    input_count = input('Mau berapa ' + item_name + '?:')\n",
        "    print('Anda akan membeli ' + input_count + ' ' + item_name)\n",
        "\n",
        "    count = int(input_count)\n",
        "    total_price = items[item_name] * count\n",
        "    print('Harga total adalah ' + str(total_price) + ' dolar')\n",
        "\n",
        "    # Tambahkan control flow berdasarkan perbandingan dari money dan total_price\n",
        "    if(money >= total_price):\n",
        "      print(\"Anda telah membeli \"+ input_count + \" \" + item_name)\n",
        "      money = money - total_price\n",
        "    else:\n",
        "      print(\"Uang Anda tidak mencukupi\")\n",
        "      print(\"Anda tidak dapat membeli \" + item_name +\" sebanyak itu\")\n"
      ],
      "metadata": {
        "id": "8U9ePFLoyCBV",
        "colab": {
          "base_uri": "https://localhost:8080/"
        },
        "outputId": "52d963c5-85d2-4493-9f31-7ea7a71d4f0a"
      },
      "id": "8U9ePFLoyCBV",
      "execution_count": null,
      "outputs": [
        {
          "output_type": "stream",
          "name": "stdout",
          "text": [
            "--------------------------------------------------\n",
            "Anda memiliki 20 dolar di dompet Anda\n",
            "Harga setiap apel 2 dolar\n",
            "Mau berapa apel?:5\n",
            "Anda akan membeli 5 apel\n",
            "Harga total adalah 10 dolar\n",
            "Anda telah membeli 5 apel\n",
            "--------------------------------------------------\n",
            "Anda memiliki 10 dolar di dompet Anda\n",
            "Harga setiap pisang 4 dolar\n",
            "Mau berapa pisang?:2\n",
            "Anda akan membeli 2 pisang\n",
            "Harga total adalah 8 dolar\n",
            "Anda telah membeli 2 pisang\n",
            "--------------------------------------------------\n",
            "Anda memiliki 2 dolar di dompet Anda\n",
            "Harga setiap jeruk 6 dolar\n",
            "Mau berapa jeruk?:1\n",
            "Anda akan membeli 1 jeruk\n",
            "Harga total adalah 6 dolar\n",
            "Uang Anda tidak mencukupi\n",
            "Anda tidak dapat membeli jeruk sebanyak itu\n"
          ]
        }
      ]
    }
  ],
  "metadata": {
    "kernelspec": {
      "display_name": "Python 3",
      "language": "python",
      "name": "python3"
    },
    "language_info": {
      "codemirror_mode": {
        "name": "ipython",
        "version": 3
      },
      "file_extension": ".py",
      "mimetype": "text/x-python",
      "name": "python",
      "nbconvert_exporter": "python",
      "pygments_lexer": "ipython3",
      "version": "3.7.1"
    },
    "colab": {
      "provenance": [],
      "toc_visible": true,
      "include_colab_link": true
    }
  },
  "nbformat": 4,
  "nbformat_minor": 5
}