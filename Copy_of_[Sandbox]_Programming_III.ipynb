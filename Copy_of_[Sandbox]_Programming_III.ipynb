{
  "nbformat": 4,
  "nbformat_minor": 5,
  "metadata": {
    "kernelspec": {
      "display_name": "Python 3",
      "language": "python",
      "name": "python3"
    },
    "language_info": {
      "codemirror_mode": {
        "name": "ipython",
        "version": 3
      },
      "file_extension": ".py",
      "mimetype": "text/x-python",
      "name": "python",
      "nbconvert_exporter": "python",
      "pygments_lexer": "ipython3",
      "version": "3.7.7"
    },
    "colab": {
      "provenance": [],
      "toc_visible": true,
      "include_colab_link": true
    }
  },
  "cells": [
    {
      "cell_type": "markdown",
      "metadata": {
        "id": "view-in-github",
        "colab_type": "text"
      },
      "source": [
        "<a href=\"https://colab.research.google.com/github/Sakalakabombom15/project-2/blob/main/Copy_of_%5BSandbox%5D_Programming_III.ipynb\" target=\"_parent\"><img src=\"https://colab.research.google.com/assets/colab-badge.svg\" alt=\"Open In Colab\"/></a>"
      ]
    },
    {
      "cell_type": "markdown",
      "metadata": {
        "id": "narrow-efficiency"
      },
      "source": [
        "# User defined functions"
      ],
      "id": "narrow-efficiency"
    },
    {
      "cell_type": "code",
      "source": [
        "def square(value):\n",
        "  # fungsi ini akan mengembalikan kuadrat dari sebuah nilai\n",
        "  new_value = value**2\n",
        "  print(f\"Hasil Kuadrat dari {value} adalah:\", new_value)\n",
        "  return new_value"
      ],
      "metadata": {
        "id": "QrgZCFNf4AnN"
      },
      "id": "QrgZCFNf4AnN",
      "execution_count": null,
      "outputs": []
    },
    {
      "cell_type": "code",
      "source": [
        "square(3)"
      ],
      "metadata": {
        "id": "hF-qcjExqqsc"
      },
      "id": "hF-qcjExqqsc",
      "execution_count": null,
      "outputs": []
    },
    {
      "cell_type": "code",
      "source": [
        "square(value=3)"
      ],
      "metadata": {
        "id": "ninqgyOkrhYW"
      },
      "id": "ninqgyOkrhYW",
      "execution_count": null,
      "outputs": []
    },
    {
      "cell_type": "code",
      "source": [
        "square_result = square(3)"
      ],
      "metadata": {
        "id": "FNiSV_q-4Ag2"
      },
      "id": "FNiSV_q-4Ag2",
      "execution_count": null,
      "outputs": []
    },
    {
      "cell_type": "code",
      "source": [
        "square_result"
      ],
      "metadata": {
        "id": "zwcCGBV24Ade"
      },
      "id": "zwcCGBV24Ade",
      "execution_count": null,
      "outputs": []
    },
    {
      "cell_type": "code",
      "source": [
        "type(square_result)"
      ],
      "metadata": {
        "id": "oFW9Du8t4AUn"
      },
      "id": "oFW9Du8t4AUn",
      "execution_count": null,
      "outputs": []
    },
    {
      "cell_type": "code",
      "source": [
        "square()"
      ],
      "metadata": {
        "id": "oX2Vb-FCsF3m"
      },
      "id": "oX2Vb-FCsF3m",
      "execution_count": null,
      "outputs": []
    },
    {
      "cell_type": "code",
      "metadata": {
        "id": "radio-bride"
      },
      "source": [
        "def five_squared():\n",
        "    new_value = 5 ** 2\n",
        "    print(new_value)"
      ],
      "id": "radio-bride",
      "execution_count": null,
      "outputs": []
    },
    {
      "cell_type": "code",
      "metadata": {
        "id": "I-V7h-x6AJQz"
      },
      "source": [
        "five_squared()"
      ],
      "id": "I-V7h-x6AJQz",
      "execution_count": null,
      "outputs": []
    },
    {
      "cell_type": "code",
      "source": [
        "type('hendy')"
      ],
      "metadata": {
        "id": "FxBGTg6nCggL"
      },
      "id": "FxBGTg6nCggL",
      "execution_count": null,
      "outputs": []
    },
    {
      "cell_type": "code",
      "source": [
        "my_name = 'hendy'\n",
        "my_name.upper()"
      ],
      "metadata": {
        "id": "rp18QjvWsPjp"
      },
      "id": "rp18QjvWsPjp",
      "execution_count": null,
      "outputs": []
    },
    {
      "cell_type": "markdown",
      "metadata": {
        "id": "dietary-boating"
      },
      "source": [
        "# Without parameter"
      ],
      "id": "dietary-boating"
    },
    {
      "cell_type": "code",
      "metadata": {
        "id": "racial-leone"
      },
      "source": [
        "# Define the function shout\n",
        "def shout():\n",
        "    \"\"\"Print a string with three exclamation marks\"\"\"\n",
        "    # Concatenate the strings: shout_word\n",
        "    shout_word = 'congratulations' + '!!!'\n",
        "\n",
        "    # Print shout_word\n",
        "    print(shout_word)"
      ],
      "id": "racial-leone",
      "execution_count": null,
      "outputs": []
    },
    {
      "cell_type": "code",
      "source": [
        "# Call shout\n",
        "shout()"
      ],
      "metadata": {
        "id": "cvVbW2UCstm_"
      },
      "id": "cvVbW2UCstm_",
      "execution_count": null,
      "outputs": []
    },
    {
      "cell_type": "markdown",
      "metadata": {
        "id": "northern-provision"
      },
      "source": [
        "# With parameter"
      ],
      "id": "northern-provision"
    },
    {
      "cell_type": "code",
      "metadata": {
        "id": "pending-livestock"
      },
      "source": [
        "# Define shout with the parameter, word\n",
        "def shout(word):\n",
        "    \"\"\"Print a string with three exclamation marks\"\"\"\n",
        "    # Concatenate the strings: shout_word\n",
        "    shout_word = word + '!!!'\n",
        "\n",
        "    # Print shout_word\n",
        "    print(shout_word)\n",
        "\n",
        "# Call shout with the string 'congratulations'\n",
        "shout('congratulations')"
      ],
      "id": "pending-livestock",
      "execution_count": null,
      "outputs": []
    },
    {
      "cell_type": "code",
      "metadata": {
        "id": "immediate-bikini"
      },
      "source": [
        "shout(\"Keren\")\n",
        "shout(word=\"Banget\")"
      ],
      "id": "immediate-bikini",
      "execution_count": null,
      "outputs": []
    },
    {
      "cell_type": "code",
      "source": [
        "def power_with_n(value, n):\n",
        "  \"\"\"\n",
        "     fungsi ini akan mengembalikan pangkat n\n",
        "     dari sebuah value\n",
        "\n",
        "     Input:\n",
        "      value(int,float): angka yang akan dipangkat\n",
        "      n(int): pangkat\n",
        "\n",
        "     Output:\n",
        "      power_result(int,float): angka hasil pangkat\n",
        "  \"\"\"\n",
        "  power_result = value**n\n",
        "  return power_result"
      ],
      "metadata": {
        "id": "R-a6a3cj-z9X"
      },
      "id": "R-a6a3cj-z9X",
      "execution_count": null,
      "outputs": []
    },
    {
      "cell_type": "code",
      "source": [
        "power_with_n(value=3.4, n=3)"
      ],
      "metadata": {
        "id": "oUp9_5XU_Npl"
      },
      "id": "oUp9_5XU_Npl",
      "execution_count": null,
      "outputs": []
    },
    {
      "cell_type": "markdown",
      "metadata": {
        "id": "narrative-anxiety"
      },
      "source": [
        "# Functions that return a single variable"
      ],
      "id": "narrative-anxiety"
    },
    {
      "cell_type": "code",
      "metadata": {
        "id": "premier-momentum"
      },
      "source": [
        "# Define shout with the parameter, word\n",
        "def shout(word):\n",
        "    \"\"\"Return a string with three exclamation marks\"\"\"\n",
        "    # Concatenate the strings: shout_word\n",
        "    shout_word = word + '!!!'\n",
        "\n",
        "    # Replace print with return\n",
        "    return shout_word"
      ],
      "id": "premier-momentum",
      "execution_count": null,
      "outputs": []
    },
    {
      "cell_type": "code",
      "metadata": {
        "id": "sporting-settlement"
      },
      "source": [
        "# Pass 'congratulations' to shout: yell\n",
        "yell = shout('congratulations')\n",
        "\n",
        "# Print yell\n",
        "print(yell)"
      ],
      "id": "sporting-settlement",
      "execution_count": null,
      "outputs": []
    },
    {
      "cell_type": "markdown",
      "metadata": {
        "id": "other-revolution"
      },
      "source": [
        "# Multiple variable"
      ],
      "id": "other-revolution"
    },
    {
      "cell_type": "code",
      "source": [
        "def square_and_root(value):\n",
        "  \"\"\"Fungsi ini akan mengembalikan kuadrat\n",
        "     dan akar dari sebuah nilai\n",
        "\n",
        "  Args:\n",
        "    value(int, float): angka yang akan dihitung\n",
        "\n",
        "  Return:\n",
        "    square_result(int, float): angka hasil kuadrat\n",
        "    root_result(int, float): angka hasil akar\n",
        "\n",
        "  \"\"\"\n",
        "  square_result = value**2\n",
        "  root_result = value**(0.5)\n",
        "  return square_result, root_result"
      ],
      "metadata": {
        "id": "F8w7v3556WUf"
      },
      "id": "F8w7v3556WUf",
      "execution_count": null,
      "outputs": []
    },
    {
      "cell_type": "code",
      "source": [
        "res = square_and_root(16)\n",
        "print(res)\n",
        "type(res)"
      ],
      "metadata": {
        "id": "WYbjCDhBu-A8"
      },
      "id": "WYbjCDhBu-A8",
      "execution_count": null,
      "outputs": []
    },
    {
      "cell_type": "code",
      "source": [
        "square_res, root_res = square_and_root(16)\n",
        "print(square_res)\n",
        "print(root_res)"
      ],
      "metadata": {
        "id": "moQ812zevIxB"
      },
      "id": "moQ812zevIxB",
      "execution_count": null,
      "outputs": []
    },
    {
      "cell_type": "code",
      "source": [
        "# Akses dengan index\n",
        "res = square_and_root( 16)\n",
        "print(res)\n",
        "print(\"Square =\", res[0])\n",
        "print(\"Root =\", res[1])"
      ],
      "metadata": {
        "id": "gwWemR8o6uqx"
      },
      "id": "gwWemR8o6uqx",
      "execution_count": null,
      "outputs": []
    },
    {
      "cell_type": "code",
      "source": [
        "# Akses dan ignore salah satu\n",
        "square, _ = square_and_root(16)\n",
        "print(\"Square =\", square)"
      ],
      "metadata": {
        "id": "OqzV6Qru7YQy"
      },
      "id": "OqzV6Qru7YQy",
      "execution_count": null,
      "outputs": []
    },
    {
      "cell_type": "code",
      "metadata": {
        "id": "sharp-overhead"
      },
      "source": [
        "# Define shout with parameters word1 and word2\n",
        "def shout(word1, word2):\n",
        "    \"\"\"Concatenate strings with three exclamation marks\n",
        "\n",
        "    Args:\n",
        "      word1 (str): first word to shout\n",
        "      word2 (str): second word to shout\n",
        "\n",
        "    Returns:\n",
        "      new_shout(str): Concatenated strings with three exclamation marks\n",
        "    \"\"\"\n",
        "    # Concatenate word1 with '!!!': shout1\n",
        "    shout1 = word1 + '!!!'\n",
        "\n",
        "    # Concatenate word2 with '!!!': shout2\n",
        "    shout2 = word2 + '!!!'\n",
        "\n",
        "    # Concatenate shout1 with shout2: new_shout\n",
        "    # new_shout = shout1 + ' ' + shout2\n",
        "    new_shout = f\"{shout1} {shout2}\"\n",
        "\n",
        "    # Return new_shout\n",
        "    return new_shout"
      ],
      "id": "sharp-overhead",
      "execution_count": null,
      "outputs": []
    },
    {
      "cell_type": "code",
      "metadata": {
        "id": "social-genesis"
      },
      "source": [
        "# Pass 'congratulations' and 'you' to shout: yell\n",
        "yell = shout('world', 'hello')\n",
        "\n",
        "# Print yell\n",
        "print(yell)"
      ],
      "id": "social-genesis",
      "execution_count": null,
      "outputs": []
    },
    {
      "cell_type": "markdown",
      "metadata": {
        "id": "relevant-psychiatry"
      },
      "source": [
        "# Returning to a tuple\n",
        "# Brief introduction to tuple"
      ],
      "id": "relevant-psychiatry"
    },
    {
      "cell_type": "code",
      "metadata": {
        "id": "fallen-sharing"
      },
      "source": [
        "nums = (3, 4, 6)"
      ],
      "id": "fallen-sharing",
      "execution_count": null,
      "outputs": []
    },
    {
      "cell_type": "code",
      "metadata": {
        "id": "finnish-option"
      },
      "source": [
        "# Unpack nums into num1, num2, and num3\n",
        "num1, num2, num3 = nums\n",
        "print(num1)\n",
        "print(num2)\n",
        "print(num3)"
      ],
      "id": "finnish-option",
      "execution_count": null,
      "outputs": []
    },
    {
      "cell_type": "code",
      "metadata": {
        "id": "aveNhc0qEpMP"
      },
      "source": [
        "# def func():\n",
        "#   ...\n",
        "# return (value1, value2)\n",
        "\n",
        "# num1, num2 = func()"
      ],
      "id": "aveNhc0qEpMP",
      "execution_count": null,
      "outputs": []
    },
    {
      "cell_type": "code",
      "metadata": {
        "id": "systematic-librarian"
      },
      "source": [
        "# Define shout_all with parameters word1 and word2\n",
        "def shout_all(word1, word2):\n",
        "    \"\"\"Return a tuple of strings\"\"\"\n",
        "    # Concatenate word1 with '!!!': shout1\n",
        "    shout1 = word1 + '!!!'\n",
        "\n",
        "    # Concatenate word2 with '!!!': shout2\n",
        "    shout2 = word2 + '!!!'\n",
        "\n",
        "    # Construct a tuple with shout1 and shout2: shout_words\n",
        "    shout_words = (shout1, shout2)\n",
        "\n",
        "    # Return shout_words\n",
        "    return shout_words\n",
        "\n",
        "# Pass 'congratulations' and 'you' to shout_all(): yell1, yell2\n",
        "yell1, yell2 = shout_all('congratulations', 'you')"
      ],
      "id": "systematic-librarian",
      "execution_count": null,
      "outputs": []
    },
    {
      "cell_type": "code",
      "metadata": {
        "id": "Y9IKkEquHyEs"
      },
      "source": [
        "# Print yell1 and yell2\n",
        "print(yell1)\n",
        "print(yell2)"
      ],
      "id": "Y9IKkEquHyEs",
      "execution_count": null,
      "outputs": []
    },
    {
      "cell_type": "code",
      "source": [
        "yell1, yell2, yell3 = shout_all('congratulations', 'you')"
      ],
      "metadata": {
        "id": "DU0c7LwYwwyd"
      },
      "id": "DU0c7LwYwwyd",
      "execution_count": null,
      "outputs": []
    },
    {
      "cell_type": "markdown",
      "metadata": {
        "id": "f5lCS3EHFLMn"
      },
      "source": [
        "# Keyword local"
      ],
      "id": "f5lCS3EHFLMn"
    },
    {
      "cell_type": "code",
      "source": [
        "'hendy'.join('fe')"
      ],
      "metadata": {
        "id": "Wz_5jzAVLOMK"
      },
      "id": "Wz_5jzAVLOMK",
      "execution_count": null,
      "outputs": []
    },
    {
      "cell_type": "code",
      "source": [
        "my_name = 'hendy fergus atheri'\n",
        "my_name.split(' ')"
      ],
      "metadata": {
        "id": "mLEUY0OKKw4_"
      },
      "id": "mLEUY0OKKw4_",
      "execution_count": null,
      "outputs": []
    },
    {
      "cell_type": "code",
      "source": [
        "capitalized_name = []\n",
        "for name_part in my_name.split(' '):\n",
        "  capitalized_name.append(name_part.capitalize())\n",
        "\n",
        "print(capitalized_name)"
      ],
      "metadata": {
        "id": "j1oJTRqPL6y_"
      },
      "id": "j1oJTRqPL6y_",
      "execution_count": null,
      "outputs": []
    },
    {
      "cell_type": "code",
      "source": [
        "'*'.join(capitalized_name)"
      ],
      "metadata": {
        "id": "m-gkf3vwMTjN"
      },
      "id": "m-gkf3vwMTjN",
      "execution_count": null,
      "outputs": []
    },
    {
      "cell_type": "code",
      "source": [
        "def capitalized_name(name):\n",
        "  '''....\n",
        "\n",
        "  Args:\n",
        "    name(str):\n",
        "\n",
        "  Returns:\n",
        "    capitalized_name(str):\n",
        "\n",
        "  Examples:\n",
        "\n",
        "  '''\n",
        "  capitalized = []\n",
        "  for name_part in name.split(' '):\n",
        "    capitalized.append(name_part.capitalize())\n",
        "\n",
        "  capitalized = ' '.join(capitalized)\n",
        "  return capitalized"
      ],
      "metadata": {
        "id": "gY6vYL68MjTk"
      },
      "id": "gY6vYL68MjTk",
      "execution_count": null,
      "outputs": []
    },
    {
      "cell_type": "code",
      "source": [
        "def add_mr_title(name):\n",
        "\n",
        "  \"\"\"Memberikan title \"Mr.\" kepada nama lelaki\n",
        "\n",
        "  Args:\n",
        "    name(str): Bergender laki-laki\n",
        "\n",
        "  Return:\n",
        "    new_name(str): Name with 'Mr.' salutaion\n",
        "  \"\"\"\n",
        "\n",
        "  # new_name = \"Mr. \" + name\n",
        "\n",
        "  new_name = capitalized_name(name)\n",
        "  new_name = f'Mr. {new_name}'\n",
        "  return new_name"
      ],
      "metadata": {
        "id": "MDoUbmtqBgzF"
      },
      "id": "MDoUbmtqBgzF",
      "execution_count": null,
      "outputs": []
    },
    {
      "cell_type": "code",
      "source": [
        "add_mr_title(\"HeNdY feRgUs aTheRi hura\")"
      ],
      "metadata": {
        "id": "HR2I_fxhCK5y"
      },
      "id": "HR2I_fxhCK5y",
      "execution_count": null,
      "outputs": []
    },
    {
      "cell_type": "code",
      "source": [
        "new_name"
      ],
      "metadata": {
        "id": "5QLqA6orCQt2"
      },
      "id": "5QLqA6orCQt2",
      "execution_count": null,
      "outputs": []
    },
    {
      "cell_type": "code",
      "metadata": {
        "id": "sy10ZDFKFNqX"
      },
      "source": [
        "# Define change_team()\n",
        "def change_team():\n",
        "    \"\"\"Change the 'value of the global variable team.\"\"\"\n",
        "\n",
        "    # Change the value of team in global: team\n",
        "    team = \"Justice League\"\n",
        "\n",
        "    print(team)"
      ],
      "id": "sy10ZDFKFNqX",
      "execution_count": null,
      "outputs": []
    },
    {
      "cell_type": "code",
      "source": [
        "team = 'Avengers'"
      ],
      "metadata": {
        "id": "AxC9dgkfONoz"
      },
      "id": "AxC9dgkfONoz",
      "execution_count": null,
      "outputs": []
    },
    {
      "cell_type": "code",
      "source": [
        "print(team)"
      ],
      "metadata": {
        "id": "xVLrdO1KOU-4"
      },
      "id": "xVLrdO1KOU-4",
      "execution_count": null,
      "outputs": []
    },
    {
      "cell_type": "code",
      "metadata": {
        "id": "MdPQhnVdFP6w"
      },
      "source": [
        "change_team()"
      ],
      "id": "MdPQhnVdFP6w",
      "execution_count": null,
      "outputs": []
    },
    {
      "cell_type": "code",
      "metadata": {
        "id": "BXA7A1zlFYk9"
      },
      "source": [
        "team"
      ],
      "id": "BXA7A1zlFYk9",
      "execution_count": null,
      "outputs": []
    },
    {
      "cell_type": "markdown",
      "metadata": {
        "id": "heard-vanilla"
      },
      "source": [
        "# Keyword global"
      ],
      "id": "heard-vanilla"
    },
    {
      "cell_type": "code",
      "source": [
        "ms_title = \"Ms. \"\n",
        "\n",
        "def add_ms_title(name):\n",
        "  new_name = ms_title + name\n",
        "  return new_name"
      ],
      "metadata": {
        "id": "FB7KbI-ZBvjV"
      },
      "id": "FB7KbI-ZBvjV",
      "execution_count": null,
      "outputs": []
    },
    {
      "cell_type": "code",
      "source": [
        "add_ms_title(\"Elisa\")"
      ],
      "metadata": {
        "id": "5zDR4srxBxWI"
      },
      "id": "5zDR4srxBxWI",
      "execution_count": null,
      "outputs": []
    },
    {
      "cell_type": "code",
      "source": [
        "ms_title"
      ],
      "metadata": {
        "id": "ksFSEoY1CBRb"
      },
      "id": "ksFSEoY1CBRb",
      "execution_count": null,
      "outputs": []
    },
    {
      "cell_type": "code",
      "source": [
        "# Ganti nilai di global\n",
        "score = 10\n",
        "\n",
        "def add_to_global_var(value):\n",
        "  global score\n",
        "  score = score + value\n",
        "\n",
        "add_to_global_var(3)"
      ],
      "metadata": {
        "id": "ZxFkQ32FCYtT"
      },
      "id": "ZxFkQ32FCYtT",
      "execution_count": null,
      "outputs": []
    },
    {
      "cell_type": "code",
      "source": [
        "score"
      ],
      "metadata": {
        "id": "3MrnS9YACzxW"
      },
      "id": "3MrnS9YACzxW",
      "execution_count": null,
      "outputs": []
    },
    {
      "cell_type": "code",
      "source": [
        "add_to_global_var(7)"
      ],
      "metadata": {
        "id": "teXafGztPidd"
      },
      "id": "teXafGztPidd",
      "execution_count": null,
      "outputs": []
    },
    {
      "cell_type": "code",
      "source": [
        "score"
      ],
      "metadata": {
        "id": "wBSEN8fzPiTl"
      },
      "id": "wBSEN8fzPiTl",
      "execution_count": null,
      "outputs": []
    },
    {
      "cell_type": "code",
      "metadata": {
        "id": "viral-skiing"
      },
      "source": [
        "# Create a string: team\n",
        "team = \"teen titans\"\n",
        "\n",
        "# Define change_team()\n",
        "def change_team():\n",
        "    \"\"\"Change the 'value of the global variable team.\"\"\"\n",
        "\n",
        "    # Use team in global scope\n",
        "    global team\n",
        "\n",
        "    # Change the value of team in global: team\n",
        "    team = \"justice league\""
      ],
      "id": "viral-skiing",
      "execution_count": null,
      "outputs": []
    },
    {
      "cell_type": "code",
      "metadata": {
        "id": "whole-usage"
      },
      "source": [
        "# Print team\n",
        "print(team)"
      ],
      "id": "whole-usage",
      "execution_count": null,
      "outputs": []
    },
    {
      "cell_type": "code",
      "metadata": {
        "id": "golden-tracy"
      },
      "source": [
        "# Call change_team()\n",
        "change_team()"
      ],
      "id": "golden-tracy",
      "execution_count": null,
      "outputs": []
    },
    {
      "cell_type": "code",
      "metadata": {
        "id": "electronic-sampling"
      },
      "source": [
        "# Print team\n",
        "print(team)"
      ],
      "id": "electronic-sampling",
      "execution_count": null,
      "outputs": []
    },
    {
      "cell_type": "code",
      "source": [
        "# Define change_team()\n",
        "def change_team_name(new_team_name):\n",
        "    \"\"\"Change the 'value of the global variable team.\"\"\"\n",
        "\n",
        "    # Use team in global scope\n",
        "    global team\n",
        "\n",
        "    # Change the value of team in global: team\n",
        "    team = new_team_name"
      ],
      "metadata": {
        "id": "_-JY1r480Feh"
      },
      "id": "_-JY1r480Feh",
      "execution_count": null,
      "outputs": []
    },
    {
      "cell_type": "code",
      "source": [
        "team"
      ],
      "metadata": {
        "id": "WsVHPJ6R0Fah"
      },
      "id": "WsVHPJ6R0Fah",
      "execution_count": null,
      "outputs": []
    },
    {
      "cell_type": "code",
      "source": [
        "change_team_name(\"Digital Skola Batch - 30\")"
      ],
      "metadata": {
        "id": "gMsjskn60FV8"
      },
      "id": "gMsjskn60FV8",
      "execution_count": null,
      "outputs": []
    },
    {
      "cell_type": "code",
      "source": [
        "team"
      ],
      "metadata": {
        "id": "xU55b8lL0FQT"
      },
      "id": "xU55b8lL0FQT",
      "execution_count": null,
      "outputs": []
    },
    {
      "cell_type": "markdown",
      "metadata": {
        "id": "cutting-invite"
      },
      "source": [
        "# Nested"
      ],
      "id": "cutting-invite"
    },
    {
      "cell_type": "code",
      "source": [
        "'''def add_family_name(father, mother, daughter, family_name):\n",
        "\n",
        "  new_father = father + ' ' + family_name\n",
        "  new_mother = mother + ' ' + family_name\n",
        "  new_daughter = daughter + ' ' + family_name\n",
        "\n",
        "  return new_father, new_mother, new_daughter'''"
      ],
      "metadata": {
        "id": "VO1soTtx2CiK"
      },
      "id": "VO1soTtx2CiK",
      "execution_count": null,
      "outputs": []
    },
    {
      "cell_type": "code",
      "source": [
        "def add_family_name(father, mother, daughter, family_name):\n",
        "\n",
        "  def add_title(name):\n",
        "    new_name = name + ' ' + family_name\n",
        "    return new_name\n",
        "\n",
        "  new_father = add_title(father)\n",
        "  new_mother = add_title(mother)\n",
        "  new_daughter = add_title(daughter)\n",
        "\n",
        "  return new_father, new_mother, new_daughter"
      ],
      "metadata": {
        "id": "djwVx1lEDwyv"
      },
      "id": "djwVx1lEDwyv",
      "execution_count": null,
      "outputs": []
    },
    {
      "cell_type": "code",
      "source": [
        "add_family_name(\n",
        "    father=\"Heru\",\n",
        "    mother=\"Sinta\",\n",
        "    daughter=\"Ana\",\n",
        "    family_name=\"Wijaya\"\n",
        ")"
      ],
      "metadata": {
        "id": "-AZwesuT1pJ5"
      },
      "id": "-AZwesuT1pJ5",
      "execution_count": null,
      "outputs": []
    },
    {
      "cell_type": "code",
      "metadata": {
        "id": "noble-tanzania"
      },
      "source": [
        "# Define three_shouts\n",
        "def three_shouts(word1, word2, word3):\n",
        "    \"\"\"Returns a tuple of strings\n",
        "    concatenated with '!!!'.\"\"\"\n",
        "\n",
        "    # Define inner\n",
        "    def inner(word):\n",
        "        \"\"\"Returns a string concatenated with '!!!'.\"\"\"\n",
        "        return word + '!!!'\n",
        "\n",
        "    # Return a tuple of strings\n",
        "    return (inner(word1), inner(word2), inner(word3))\n",
        "\n",
        "# Call three_shouts() and print\n",
        "print(three_shouts('Hi', 'Hey', 'Hello'))"
      ],
      "id": "noble-tanzania",
      "execution_count": null,
      "outputs": []
    },
    {
      "cell_type": "code",
      "source": [
        "inner('Hola')"
      ],
      "metadata": {
        "id": "cNHBrKzCQ-Jo"
      },
      "id": "cNHBrKzCQ-Jo",
      "execution_count": null,
      "outputs": []
    },
    {
      "cell_type": "markdown",
      "metadata": {
        "id": "temporal-victor"
      },
      "source": [
        "# Nested Function II"
      ],
      "id": "temporal-victor"
    },
    {
      "cell_type": "markdown",
      "metadata": {
        "id": "electric-divorce"
      },
      "source": [
        "Repeating word based on number made \\n \"\"\"Return the inner_echo function.\"\"\""
      ],
      "id": "electric-divorce"
    },
    {
      "cell_type": "code",
      "metadata": {
        "id": "recognized-milan"
      },
      "source": [
        "# Define echo\n",
        "def echo(n):\n",
        "    \"\"\"Return the inner_echo function.\"\"\"\n",
        "\n",
        "    # Define inner_echo\n",
        "    def inner_echo(word1):\n",
        "        \"\"\"Concatenate n copies of word1.\"\"\"\n",
        "        echo_word = word1 * n\n",
        "        return echo_word\n",
        "\n",
        "    # Return inner_echo\n",
        "    return inner_echo"
      ],
      "id": "recognized-milan",
      "execution_count": null,
      "outputs": []
    },
    {
      "cell_type": "code",
      "metadata": {
        "id": "accessory-stocks"
      },
      "source": [
        "# Call echo: twice\n",
        "twice = echo(2)\n",
        "\n",
        "# Call echo: thrice\n",
        "thrice = echo(3)\n",
        "\n",
        "# Call twice() and thrice() then print\n",
        "print(twice('hello'), thrice('hello'))"
      ],
      "id": "accessory-stocks",
      "execution_count": null,
      "outputs": []
    },
    {
      "cell_type": "code",
      "metadata": {
        "id": "PhFhRK5qF2rV"
      },
      "source": [
        "thrice"
      ],
      "id": "PhFhRK5qF2rV",
      "execution_count": null,
      "outputs": []
    },
    {
      "cell_type": "code",
      "metadata": {
        "id": "vevuQlQ6FyxT"
      },
      "source": [
        "# Call echo: thrice\n",
        "thrice(\"hai\")"
      ],
      "id": "vevuQlQ6FyxT",
      "execution_count": null,
      "outputs": []
    },
    {
      "cell_type": "code",
      "source": [
        "twice(\"hello\")"
      ],
      "metadata": {
        "id": "rzvV8X_BRxYC"
      },
      "id": "rzvV8X_BRxYC",
      "execution_count": null,
      "outputs": []
    },
    {
      "cell_type": "markdown",
      "metadata": {
        "id": "floating-margin"
      },
      "source": [
        "# Functions with one default argument"
      ],
      "id": "floating-margin"
    },
    {
      "cell_type": "code",
      "metadata": {
        "id": "least-suspension"
      },
      "source": [
        "# Define shout_echo\n",
        "def shout_echo(word1, echo=7):\n",
        "    \"\"\"Concatenate echo copies of word1 and three\n",
        "     exclamation marks at the end of the string.\"\"\"\n",
        "\n",
        "    # Concatenate echo copies of word1 using *: echo_word\n",
        "    echo_word = word1 * echo\n",
        "\n",
        "    # Concatenate '!!!' to echo_word: shout_word\n",
        "    shout_word = echo_word + '!!!'\n",
        "\n",
        "    # Return shout_word\n",
        "    return shout_word"
      ],
      "id": "least-suspension",
      "execution_count": null,
      "outputs": []
    },
    {
      "cell_type": "code",
      "metadata": {
        "id": "solved-physiology"
      },
      "source": [
        "# Call shout_echo() with \"Hey\": no echo\n",
        "default_echo = shout_echo(\"Hey\")\n",
        "\n",
        "# Call shout_echo() with \"Hey\" and echo=3: with echo\n",
        "with_echo = shout_echo(\"Hey\", echo=3)\n",
        "\n",
        "# Print no_echo and with_echo\n",
        "print(default_echo)\n",
        "print(with_echo)"
      ],
      "id": "solved-physiology",
      "execution_count": null,
      "outputs": []
    },
    {
      "cell_type": "markdown",
      "metadata": {
        "id": "stylish-yemen"
      },
      "source": [
        "# Functions with multiple default arguments"
      ],
      "id": "stylish-yemen"
    },
    {
      "cell_type": "code",
      "metadata": {
        "id": "naughty-positive"
      },
      "source": [
        "# Define shout_echo\n",
        "def shout_echo(word1, echo=1, intense=True):\n",
        "    \"\"\"Concatenate echo copies of word1 and three\n",
        "    exclamation marks at the end of the string.\"\"\"\n",
        "\n",
        "    # Concatenate echo copies of word1 using *: echo_word\n",
        "    echo_word = word1 * echo\n",
        "\n",
        "    # Make echo_word uppercase if intense is True\n",
        "    if intense is True:\n",
        "        # Make uppercase and concatenate '!!!': echo_word_new\n",
        "        echo_word_new = echo_word.upper() + '!!!'\n",
        "    else:\n",
        "        # Concatenate '!!!' to echo_word: echo_word_new\n",
        "        echo_word_new = echo_word + '!!!'\n",
        "\n",
        "    # Return echo_word_new\n",
        "    return echo_word_new"
      ],
      "id": "naughty-positive",
      "execution_count": null,
      "outputs": []
    },
    {
      "cell_type": "code",
      "source": [
        "# Define shout_echo\n",
        "def shout_echo(word1, echo=1, intense=True):\n",
        "    \"\"\"Concatenate echo copies of word1 and three\n",
        "    exclamation marks at the end of the string.\"\"\"\n",
        "\n",
        "    # Concatenate echo copies of word1 using *: echo_word\n",
        "    echo_word = word1 * echo\n",
        "\n",
        "    # Make echo_word uppercase if intense is True\n",
        "    if intense:\n",
        "        # Make uppercase and concatenate '!!!': echo_word_new\n",
        "        echo_word_new = echo_word.upper() + '!!!'\n",
        "    else:\n",
        "        #Concatenate '!!!' to echo_word: echo_word_new\n",
        "        echo_word_new = echo_word + '!!!'\n",
        "\n",
        "    # Return echo_word_new\n",
        "    return echo_word_new"
      ],
      "metadata": {
        "id": "EXa3B9cDSaXD"
      },
      "id": "EXa3B9cDSaXD",
      "execution_count": null,
      "outputs": []
    },
    {
      "cell_type": "code",
      "metadata": {
        "id": "decimal-teddy"
      },
      "source": [
        "# Call shout_echo() with \"Hey\", echo=5 and intense=True: with_big_echo\n",
        "with_big_echo = shout_echo(\"Hey\", echo=5, intense=True)\n",
        "\n",
        "# Call shout_echo() with \"Hey\" and intense=True: big_no_echo\n",
        "default_echo = shout_echo(\"Hey\")\n",
        "\n",
        "# Print with_big_echo and big_no_echo\n",
        "print(with_big_echo)\n",
        "print(default_echo)"
      ],
      "id": "decimal-teddy",
      "execution_count": null,
      "outputs": []
    },
    {
      "cell_type": "code",
      "source": [
        "my_echo = shout_echo(\"Hey\", echo=2, intense=False)\n",
        "print(my_echo)"
      ],
      "metadata": {
        "id": "FDL-RyWw5qqh"
      },
      "id": "FDL-RyWw5qqh",
      "execution_count": null,
      "outputs": []
    },
    {
      "cell_type": "markdown",
      "metadata": {
        "id": "toxic-circus"
      },
      "source": [
        "# Functions with variable-length arguments (*args)"
      ],
      "id": "toxic-circus"
    },
    {
      "cell_type": "code",
      "metadata": {
        "id": "vanilla-imperial"
      },
      "source": [
        "# Define gibberish\n",
        "def gibberish(*args):\n",
        "    \"\"\"Concatenate strings in *args together.\"\"\"\n",
        "    # Initialize an empty string: hodgepodge\n",
        "    hodgepodge = ''\n",
        "\n",
        "    # Concatenate the strings in args\n",
        "    for word in args:\n",
        "        hodgepodge += word # hodgepodge = hodgepodge + word\n",
        "\n",
        "    # Return hodgepodge\n",
        "    return hodgepodge"
      ],
      "id": "vanilla-imperial",
      "execution_count": null,
      "outputs": []
    },
    {
      "cell_type": "code",
      "source": [
        "# Call gibberish() with one string: one_word\n",
        "one_word = gibberish(\"saya\")\n",
        "\n",
        "# Call gibberish() with five strings: many_words\n",
        "many_words = gibberish(\"saya\", \"suka\", \"makan\", \"nasi\", \"goreng\")\n",
        "\n",
        "# Print one_word and many_words\n",
        "print(one_word)\n",
        "print(many_words)"
      ],
      "metadata": {
        "id": "HHtOspGr6o0x"
      },
      "id": "HHtOspGr6o0x",
      "execution_count": null,
      "outputs": []
    },
    {
      "cell_type": "markdown",
      "metadata": {
        "id": "further-light"
      },
      "source": [
        "# Functions with variable-length keyword arguments (**kwargs)"
      ],
      "id": "further-light"
    },
    {
      "cell_type": "code",
      "metadata": {
        "id": "suspected-rough"
      },
      "source": [
        "# Define report_status\n",
        "def report_status(**kwargs):\n",
        "    \"\"\"Print out the status of a person.\"\"\"\n",
        "    print(\"\\nBEGIN: REPORT\\n\")\n",
        "\n",
        "    # Iterate over the key-value pairs of kwargs\n",
        "    for key, value in kwargs.items():\n",
        "        # Print out the keys and values, separated by a colon ':'\n",
        "        print(key + \": \" + value)\n",
        "\n",
        "    print(\"\\nEND REPORT\")"
      ],
      "id": "suspected-rough",
      "execution_count": null,
      "outputs": []
    },
    {
      "cell_type": "code",
      "metadata": {
        "id": "miniature-civilization"
      },
      "source": [
        "# First call to report_status()\n",
        "report_status(\n",
        "    name=\"john\",\n",
        "    occupation=\"data scientist\",\n",
        "    status=\"married\"\n",
        ")"
      ],
      "id": "miniature-civilization",
      "execution_count": null,
      "outputs": []
    },
    {
      "cell_type": "code",
      "metadata": {
        "id": "AABITS6bM5Fw"
      },
      "source": [
        "# Second call to report_status()\n",
        "report_status(\n",
        "    name=\"hanna\",\n",
        "    occupation=\"software engineer\",\n",
        "    status=\"single\",\n",
        "    blood_type = \"a+\",\n",
        "    address=\"jakarta\",\n",
        "    birth_date=\"12-01-1998\"\n",
        ")"
      ],
      "id": "AABITS6bM5Fw",
      "execution_count": null,
      "outputs": []
    },
    {
      "cell_type": "code",
      "source": [
        "my_args = {\n",
        "    \"name\": \"john\",\n",
        "    \"occupation\": \"data scientist\",\n",
        "    \"status\": \"married\"\n",
        "}\n",
        "\n",
        "report_status(**my_args)"
      ],
      "metadata": {
        "id": "1dNcR_wc7lR8"
      },
      "id": "1dNcR_wc7lR8",
      "execution_count": null,
      "outputs": []
    },
    {
      "cell_type": "markdown",
      "metadata": {
        "id": "several-customer"
      },
      "source": [
        "# Lambda"
      ],
      "id": "several-customer"
    },
    {
      "cell_type": "code",
      "source": [
        "def raise_to_power(x, y):\n",
        "  value = x ** y\n",
        "  return value"
      ],
      "metadata": {
        "id": "d_f6NO_yJqCl"
      },
      "id": "d_f6NO_yJqCl",
      "execution_count": null,
      "outputs": []
    },
    {
      "cell_type": "code",
      "source": [
        "raise_to_power(4,3)"
      ],
      "metadata": {
        "id": "rRtL6oNqJu_W"
      },
      "id": "rRtL6oNqJu_W",
      "execution_count": null,
      "outputs": []
    },
    {
      "cell_type": "code",
      "source": [
        "# lambda input: process\n",
        "# lambda automatically output\n",
        "raise_to_power = lambda x, y: x ** y"
      ],
      "metadata": {
        "id": "sToIVfCZJ1JQ"
      },
      "id": "sToIVfCZJ1JQ",
      "execution_count": null,
      "outputs": []
    },
    {
      "cell_type": "code",
      "source": [
        "raise_to_power(4,3)"
      ],
      "metadata": {
        "id": "eAVMQwxSKGOK"
      },
      "id": "eAVMQwxSKGOK",
      "execution_count": null,
      "outputs": []
    },
    {
      "cell_type": "code",
      "source": [
        "add_mr_title = lambda male_name: \"Mr. \" + male_name\n",
        "\n",
        "add_mr_title(\"Hendy\")"
      ],
      "metadata": {
        "id": "SM-wuW4g82pn"
      },
      "id": "SM-wuW4g82pn",
      "execution_count": null,
      "outputs": []
    },
    {
      "cell_type": "markdown",
      "metadata": {
        "id": "concrete-clause"
      },
      "source": [
        "# Map"
      ],
      "id": "concrete-clause"
    },
    {
      "cell_type": "code",
      "source": [
        "def square_def(x):\n",
        "  return x**2\n",
        "\n",
        "square_lambda = lambda x: x ** 2\n",
        "\n",
        "value_list = [1, 2, 3, 4, 5]\n",
        "value_tuple = (1, 2, 3, 4, 5)"
      ],
      "metadata": {
        "id": "NSEpgQJSKMyt"
      },
      "id": "NSEpgQJSKMyt",
      "execution_count": null,
      "outputs": []
    },
    {
      "cell_type": "code",
      "source": [
        "[*map(lambda x: x**2, value_list)]"
      ],
      "metadata": {
        "id": "UHgXaYbBYCpn"
      },
      "id": "UHgXaYbBYCpn",
      "execution_count": null,
      "outputs": []
    },
    {
      "cell_type": "code",
      "source": [
        "map(square_def, value_list)"
      ],
      "metadata": {
        "id": "1_04GxFUU5G4"
      },
      "id": "1_04GxFUU5G4",
      "execution_count": null,
      "outputs": []
    },
    {
      "cell_type": "code",
      "source": [
        "[*map(square_def, value_list)]"
      ],
      "metadata": {
        "id": "DsN_Psd4Vbtk"
      },
      "id": "DsN_Psd4Vbtk",
      "execution_count": null,
      "outputs": []
    },
    {
      "cell_type": "code",
      "source": [
        "[*map(square_def, value_tuple)]"
      ],
      "metadata": {
        "id": "XSaWpOPmVrL9"
      },
      "id": "XSaWpOPmVrL9",
      "execution_count": null,
      "outputs": []
    },
    {
      "cell_type": "code",
      "source": [
        "list(map(square_def, value_tuple))"
      ],
      "metadata": {
        "id": "qEgXIacEVuej"
      },
      "id": "qEgXIacEVuej",
      "execution_count": null,
      "outputs": []
    },
    {
      "cell_type": "code",
      "source": [
        "map(square, value_list)"
      ],
      "metadata": {
        "id": "vkj6JTjO9RPi"
      },
      "id": "vkj6JTjO9RPi",
      "execution_count": null,
      "outputs": []
    },
    {
      "cell_type": "code",
      "source": [
        "# map(function, iterable)\n",
        "list(map(square, value_list))"
      ],
      "metadata": {
        "id": "oUAquIKt9RNa"
      },
      "id": "oUAquIKt9RNa",
      "execution_count": null,
      "outputs": []
    },
    {
      "cell_type": "code",
      "source": [
        "[*map(square, value_list)]"
      ],
      "metadata": {
        "id": "b6v1Sbuz9RKp"
      },
      "id": "b6v1Sbuz9RKp",
      "execution_count": null,
      "outputs": []
    },
    {
      "cell_type": "code",
      "metadata": {
        "id": "innocent-division"
      },
      "source": [
        "# Create a list of strings\n",
        "name = ('john', 'hanna', 'bobby', 'charlie')\n",
        "\n",
        "# declare lambda function\n",
        "shout = lambda word: word + '!!!'\n",
        "\n",
        "# Use map() to apply a lambda function over list: shout_names\n",
        "shout_names = map(shout, name)\n",
        "\n",
        "# Convert shout_names to a list: shout_names_list\n",
        "shout_names_list = list(shout_names)\n",
        "\n",
        "# Print the result\n",
        "print(shout_names_list)"
      ],
      "id": "innocent-division",
      "execution_count": null,
      "outputs": []
    },
    {
      "cell_type": "code",
      "metadata": {
        "id": "0MbrVPv_IcPE"
      },
      "source": [
        "# using list comprehension\n",
        "[shout(i) for i in name]"
      ],
      "id": "0MbrVPv_IcPE",
      "execution_count": null,
      "outputs": []
    },
    {
      "cell_type": "code",
      "source": [
        "basket = ['apple', 'melon', 'kiwi']\n",
        "\n",
        "capitalized_basket = []\n",
        "for fruit in basket:\n",
        "  capitalized_basket.append(fruit.capitalize())\n",
        "\n",
        "capitalized_basket"
      ],
      "metadata": {
        "id": "Vyb7Q_qJWYPd"
      },
      "id": "Vyb7Q_qJWYPd",
      "execution_count": null,
      "outputs": []
    },
    {
      "cell_type": "code",
      "source": [
        "capitalized_basket = [fruit.capitalize() for fruit in basket]\n",
        "capitalized_basket"
      ],
      "metadata": {
        "id": "NPBTJiM4WYMl"
      },
      "id": "NPBTJiM4WYMl",
      "execution_count": null,
      "outputs": []
    },
    {
      "cell_type": "code",
      "source": [
        "basket = ['apple', 'melon', 'kiwi', 'coconut', 'durian', 'mango']"
      ],
      "metadata": {
        "id": "UFvk3nZJXHi9"
      },
      "id": "UFvk3nZJXHi9",
      "execution_count": null,
      "outputs": []
    },
    {
      "cell_type": "code",
      "source": [
        "%%timeit\n",
        "capitalized_basket = []\n",
        "for fruit in basket:\n",
        "  capitalized_basket.append(fruit.capitalize())\n",
        "\n",
        "capitalized_basket"
      ],
      "metadata": {
        "id": "wUjYup50XHbo"
      },
      "id": "wUjYup50XHbo",
      "execution_count": null,
      "outputs": []
    },
    {
      "cell_type": "code",
      "source": [
        "%%timeit\n",
        "capitalized_basket = [fruit.capitalize() for fruit in basket]\n",
        "capitalized_basket"
      ],
      "metadata": {
        "id": "7VrdR3WnXg2G"
      },
      "id": "7VrdR3WnXg2G",
      "execution_count": null,
      "outputs": []
    },
    {
      "cell_type": "code",
      "source": [
        "[1, 4, 9, 16, 25]"
      ],
      "metadata": {
        "id": "FBBOHMEKXgxG"
      },
      "id": "FBBOHMEKXgxG",
      "execution_count": null,
      "outputs": []
    },
    {
      "cell_type": "markdown",
      "metadata": {
        "id": "solved-macintosh"
      },
      "source": [
        "# Filter and Lambda"
      ],
      "id": "solved-macintosh"
    },
    {
      "cell_type": "code",
      "source": [
        "3 > 4, 4 >= 4"
      ],
      "metadata": {
        "id": "qMXQ8IyH-ZSw"
      },
      "id": "qMXQ8IyH-ZSw",
      "execution_count": null,
      "outputs": []
    },
    {
      "cell_type": "code",
      "source": [
        "filter()"
      ],
      "metadata": {
        "id": "7hXVixzT-yMk"
      },
      "id": "7hXVixzT-yMk",
      "execution_count": null,
      "outputs": []
    },
    {
      "cell_type": "code",
      "source": [
        "len('hendy')"
      ],
      "metadata": {
        "id": "bNYq9nMrYceA"
      },
      "id": "bNYq9nMrYceA",
      "execution_count": null,
      "outputs": []
    },
    {
      "cell_type": "code",
      "source": [
        "if_longer_than_5 = lambda member: len(member) > 5"
      ],
      "metadata": {
        "id": "-VoSSeOYYnzn"
      },
      "id": "-VoSSeOYYnzn",
      "execution_count": null,
      "outputs": []
    },
    {
      "cell_type": "code",
      "source": [
        "if_longer_than_5('hendy')"
      ],
      "metadata": {
        "id": "jCGSnJ8gYhSX"
      },
      "id": "jCGSnJ8gYhSX",
      "execution_count": null,
      "outputs": []
    },
    {
      "cell_type": "code",
      "metadata": {
        "id": "advisory-selling"
      },
      "source": [
        "# Create a list of strings: friends\n",
        "friends = ['jake', 'amy', 'roberto', 'michael', 'juliet', 'jasmine']\n",
        "\n",
        "# declare lambda function\n",
        "if_longer_than_5 = lambda member: len(member) > 5\n",
        "\n",
        "# Use filter() to apply a lambda function over friends: result\n",
        "result = filter(if_longer_than_5, friends)\n",
        "\n",
        "# Convert result to a list: result_list\n",
        "result_list = list(result)\n",
        "# result_list = [*result]\n",
        "\n",
        "# Print result_list\n",
        "print(result_list)"
      ],
      "id": "advisory-selling",
      "execution_count": null,
      "outputs": []
    },
    {
      "cell_type": "code",
      "source": [
        "# declare lambda function\n",
        "if_longer_than_5 = lambda member: len(member) > 5"
      ],
      "metadata": {
        "id": "0XxI5_1T_i0Q"
      },
      "id": "0XxI5_1T_i0Q",
      "execution_count": null,
      "outputs": []
    },
    {
      "cell_type": "code",
      "source": [
        "# Create a list of strings: friends\n",
        "friends = ['jake', 'amy', 'roberto', 'michael', 'juliet', 'jasmine']\n",
        "# Use filter() to apply a lambda function over friends: result\n",
        "result = filter(if_longer_than_5, friends)\n",
        "# result_list = list(result)\n",
        "result_list = [*result]\n",
        "\n",
        "print(result_list)"
      ],
      "metadata": {
        "id": "bpBsx67V_ixv"
      },
      "id": "bpBsx67V_ixv",
      "execution_count": null,
      "outputs": []
    },
    {
      "cell_type": "markdown",
      "metadata": {
        "id": "sound-george"
      },
      "source": [
        "# Errors"
      ],
      "id": "sound-george"
    },
    {
      "cell_type": "markdown",
      "metadata": {
        "id": "theoretical-knock"
      },
      "source": [
        "# Error handling with try-except"
      ],
      "id": "theoretical-knock"
    },
    {
      "cell_type": "code",
      "source": [
        "# Define shout_echo\n",
        "def shout_echo(word1, echo=1):\n",
        "    \"\"\"Concatenate echo copies of word1 and three\n",
        "    exclamation marks at the end of the string.\"\"\"\n",
        "\n",
        "    # Initialize empty strings: echo_word, shout_words\n",
        "    echo_word = ''\n",
        "    shout_words = ''\n",
        "\n",
        "\n",
        "    # Concatenate echo copies of word1 using *: echo_word\n",
        "    echo_word = word1 * echo\n",
        "\n",
        "    # Concatenate '!!!' to echo_word: shout_words\n",
        "    shout_words = echo_word + '!!!'\n",
        "\n",
        "\n",
        "    # Return shout_words\n",
        "    return shout_words"
      ],
      "metadata": {
        "id": "OO-VjihpZFRf"
      },
      "id": "OO-VjihpZFRf",
      "execution_count": null,
      "outputs": []
    },
    {
      "cell_type": "code",
      "metadata": {
        "id": "exempt-aggregate"
      },
      "source": [
        "# Call shout_echo\n",
        "shout_echo(\"hello\", echo=\"world\")"
      ],
      "id": "exempt-aggregate",
      "execution_count": null,
      "outputs": []
    },
    {
      "cell_type": "code",
      "source": [
        "# Define shout_echo\n",
        "def shout_echo(word1, echo=1):\n",
        "    \"\"\"Concatenate echo copies of word1 and three\n",
        "    exclamation marks at the end of the string.\"\"\"\n",
        "\n",
        "    # Initialize empty strings: echo_word, shout_words\n",
        "    echo_word = ''\n",
        "    shout_words = ''\n",
        "\n",
        "    # Add exception handling with try-except\n",
        "    try:\n",
        "        # Concatenate echo copies of word1 using *: echo_word\n",
        "        echo_word = word1 * echo\n",
        "\n",
        "        # Concatenate '!!!' to echo_word: shout_words\n",
        "        shout_words = echo_word + '!!!'\n",
        "    except TypeError:\n",
        "        # Print error message\n",
        "        print(\"word1 must be a string and echo must be an integer.\")\n",
        "        return\n",
        "\n",
        "    # Return shout_words\n",
        "    return shout_words"
      ],
      "metadata": {
        "id": "b4ipRqI4ZRwI"
      },
      "id": "b4ipRqI4ZRwI",
      "execution_count": null,
      "outputs": []
    },
    {
      "cell_type": "code",
      "source": [
        "# Call shout_echo\n",
        "shout_echo(\"hello\", echo=\"world\")"
      ],
      "metadata": {
        "id": "TbhDiI5LZUYT"
      },
      "id": "TbhDiI5LZUYT",
      "execution_count": null,
      "outputs": []
    },
    {
      "cell_type": "code",
      "metadata": {
        "id": "looking-beauty"
      },
      "source": [
        "# Call shout_echo\n",
        "shout_echo(\"hello\", echo=2)"
      ],
      "id": "looking-beauty",
      "execution_count": null,
      "outputs": []
    },
    {
      "cell_type": "markdown",
      "metadata": {
        "id": "surface-concept"
      },
      "source": [
        "# Error handling by raising an error"
      ],
      "id": "surface-concept"
    },
    {
      "cell_type": "code",
      "metadata": {
        "id": "regional-greensboro"
      },
      "source": [
        "# Define shout_echo\n",
        "def shout_echo(word1, echo=1):\n",
        "    \"\"\"Concatenate echo copies of word1 and three\n",
        "    exclamation marks at the end of the string.\"\"\"\n",
        "\n",
        "    # Raise an error with raise\n",
        "    if echo < 0:\n",
        "        raise TypeError('echo must be greater than or equal to 0')\n",
        "\n",
        "    # Concatenate echo copies of word1 using *: echo_word\n",
        "    echo_word = word1 * echo\n",
        "\n",
        "    # Concatenate '!!!' to echo_word: shout_word\n",
        "    shout_word = echo_word + '!!!'\n",
        "\n",
        "    # Return shout_word\n",
        "    return shout_word"
      ],
      "id": "regional-greensboro",
      "execution_count": null,
      "outputs": []
    },
    {
      "cell_type": "code",
      "metadata": {
        "id": "plain-shore"
      },
      "source": [
        "# Call shout_echo\n",
        "shout_echo(\"hello\", echo=5)"
      ],
      "id": "plain-shore",
      "execution_count": null,
      "outputs": []
    },
    {
      "cell_type": "code",
      "metadata": {
        "id": "dietary-coalition"
      },
      "source": [
        "# Call shout_echo\n",
        "shout_echo(\"hello\", echo=-5)"
      ],
      "id": "dietary-coalition",
      "execution_count": null,
      "outputs": []
    },
    {
      "cell_type": "code",
      "source": [
        "12/0"
      ],
      "metadata": {
        "id": "GQ-zpuGsA2ZI"
      },
      "id": "GQ-zpuGsA2ZI",
      "execution_count": null,
      "outputs": []
    },
    {
      "cell_type": "code",
      "source": [
        "n1 = 12\n",
        "n2 = 0\n",
        "\n",
        "try:\n",
        "  print(n1/n2)\n",
        "except ZeroDivisionError:\n",
        "  # Print error message\n",
        "  print(\"n2 tidak boleh nol!\")"
      ],
      "metadata": {
        "id": "tgcm9DjbAki_"
      },
      "id": "tgcm9DjbAki_",
      "execution_count": null,
      "outputs": []
    },
    {
      "cell_type": "code",
      "source": [
        "n1 = 12\n",
        "n2 = 3\n",
        "\n",
        "try:\n",
        "  print(n1/n2)\n",
        "except ZeroDivisionError:\n",
        "  # Print error message\n",
        "  print(\"n2 tidak boleh nol!\")"
      ],
      "metadata": {
        "id": "MjSVrjJaZozs"
      },
      "id": "MjSVrjJaZozs",
      "execution_count": null,
      "outputs": []
    },
    {
      "cell_type": "markdown",
      "source": [
        "# Library"
      ],
      "metadata": {
        "id": "0GJxmxsRLD21"
      },
      "id": "0GJxmxsRLD21"
    },
    {
      "cell_type": "code",
      "source": [
        "import numpy\n",
        "numpy.sqrt(16)"
      ],
      "metadata": {
        "id": "vpl-kCn6K_bM"
      },
      "id": "vpl-kCn6K_bM",
      "execution_count": null,
      "outputs": []
    },
    {
      "cell_type": "code",
      "source": [
        "import numpy as np\n",
        "np.sqrt(16)"
      ],
      "metadata": {
        "id": "K2eiMaIzLKsf"
      },
      "id": "K2eiMaIzLKsf",
      "execution_count": null,
      "outputs": []
    },
    {
      "cell_type": "code",
      "source": [
        "from numpy import sqrt\n",
        "sqrt(16)"
      ],
      "metadata": {
        "id": "adWAMEGSLFeM"
      },
      "id": "adWAMEGSLFeM",
      "execution_count": null,
      "outputs": []
    },
    {
      "cell_type": "markdown",
      "metadata": {
        "id": "R73sQrWYFefz"
      },
      "source": [
        "# String Manipulation"
      ],
      "id": "R73sQrWYFefz"
    },
    {
      "cell_type": "code",
      "metadata": {
        "id": "sbe445qMFhTc"
      },
      "source": [
        "# Slicing\n",
        "b = \"Hello, World!\"\n",
        "print(b[2:5])"
      ],
      "id": "sbe445qMFhTc",
      "execution_count": null,
      "outputs": []
    },
    {
      "cell_type": "code",
      "metadata": {
        "id": "nominated-clothing"
      },
      "source": [
        "# Negative index slicing\n",
        "b = \"Hello, World!\"\n",
        "print(b[-5:-2])"
      ],
      "id": "nominated-clothing",
      "execution_count": null,
      "outputs": []
    },
    {
      "cell_type": "code",
      "metadata": {
        "id": "5RsZRXlmvP8k"
      },
      "source": [
        "# Reverse\n",
        "b = \"Hello, World!\"\n",
        "# list[start:end:step]\n",
        "print(b[::-1])"
      ],
      "id": "5RsZRXlmvP8k",
      "execution_count": null,
      "outputs": []
    },
    {
      "cell_type": "code",
      "source": [
        "b = \"Hello, World!\"\n",
        "# list[start:end:step]\n",
        "print(b[:5:2])"
      ],
      "metadata": {
        "id": "Iz7W_7l5BxME"
      },
      "id": "Iz7W_7l5BxME",
      "execution_count": null,
      "outputs": []
    },
    {
      "cell_type": "code",
      "metadata": {
        "id": "8FCgbsiOvSki"
      },
      "source": [
        "# menjadi huruf besar\n",
        "print(b.upper())"
      ],
      "id": "8FCgbsiOvSki",
      "execution_count": null,
      "outputs": []
    },
    {
      "cell_type": "code",
      "metadata": {
        "id": "pKSEsTjEvXr2"
      },
      "source": [
        "# menjadi huruf kecil\n",
        "b = \"HELLO, WORLD!\"\n",
        "print(b.lower())"
      ],
      "id": "pKSEsTjEvXr2",
      "execution_count": null,
      "outputs": []
    },
    {
      "cell_type": "code",
      "source": [
        "# huruf kapital\n",
        "b = \"hello world!\"\n",
        "b.capitalize()"
      ],
      "metadata": {
        "id": "AXpZmuDkMreH"
      },
      "id": "AXpZmuDkMreH",
      "execution_count": null,
      "outputs": []
    },
    {
      "cell_type": "code",
      "metadata": {
        "id": "Baf4RDmrvYyi"
      },
      "source": [
        "# Menghapus semua whitespace kiri dan kanan\n",
        "b = \" Hello, World!     \"\n",
        "print(b.strip())"
      ],
      "id": "Baf4RDmrvYyi",
      "execution_count": null,
      "outputs": []
    },
    {
      "cell_type": "code",
      "source": [
        "\n",
        "b = \"*Hello,**World!\"\n",
        "print(b.strip('*'))"
      ],
      "metadata": {
        "id": "bDtHla93aeog"
      },
      "id": "bDtHla93aeog",
      "execution_count": null,
      "outputs": []
    },
    {
      "cell_type": "code",
      "metadata": {
        "id": "yeaNtzCnvaUG"
      },
      "source": [
        "# Mengganti substring dengan string lain\n",
        "b = \"Hello, World!\"\n",
        "print(b.replace(\"l\", \"n\"))"
      ],
      "id": "yeaNtzCnvaUG",
      "execution_count": null,
      "outputs": []
    },
    {
      "cell_type": "code",
      "source": [
        "my_name = \"hendy\"\n",
        "my_name."
      ],
      "metadata": {
        "id": "iW-XoLPYCRXI"
      },
      "id": "iW-XoLPYCRXI",
      "execution_count": null,
      "outputs": []
    },
    {
      "cell_type": "code",
      "metadata": {
        "id": "Oyfhi4qRKp33"
      },
      "source": [
        "print(b.replace(\"l\", \"ha\"))"
      ],
      "id": "Oyfhi4qRKp33",
      "execution_count": null,
      "outputs": []
    },
    {
      "cell_type": "code",
      "source": [
        "print(b.replace(\"Hello\", \"Hai\"))"
      ],
      "metadata": {
        "id": "NgUGN-uaNC_p"
      },
      "id": "NgUGN-uaNC_p",
      "execution_count": null,
      "outputs": []
    },
    {
      "cell_type": "code",
      "source": [
        "print(b.replace(\"World\", \"You\"))"
      ],
      "metadata": {
        "id": "suQciAkMNIeV"
      },
      "id": "suQciAkMNIeV",
      "execution_count": null,
      "outputs": []
    },
    {
      "cell_type": "code",
      "metadata": {
        "id": "VyZG-Z9SvjmM"
      },
      "source": [
        "a = \"alpha beta charlie delta\"\n",
        "a.split()"
      ],
      "id": "VyZG-Z9SvjmM",
      "execution_count": null,
      "outputs": []
    },
    {
      "cell_type": "code",
      "source": [
        "a = \"alpha;beta charlie;delta\"\n",
        "a.split(\";\")"
      ],
      "metadata": {
        "id": "6R50QsebNbfy"
      },
      "id": "6R50QsebNbfy",
      "execution_count": null,
      "outputs": []
    },
    {
      "cell_type": "code",
      "metadata": {
        "id": "6vCLtuYPvnzH"
      },
      "source": [
        "# string concatenate\n",
        "a = \"Hello\"\n",
        "b = \"World\"\n",
        "c = a + b\n",
        "print(c)"
      ],
      "id": "6vCLtuYPvnzH",
      "execution_count": null,
      "outputs": []
    },
    {
      "cell_type": "code",
      "metadata": {
        "id": "yduv-6PgvrZp"
      },
      "source": [
        "a = \"Hello\"\n",
        "b = \"World\"\n",
        "c = a + \" \" + b\n",
        "print(c)"
      ],
      "id": "yduv-6PgvrZp",
      "execution_count": null,
      "outputs": []
    },
    {
      "cell_type": "code",
      "source": [
        "print(\"Hello, World!\")"
      ],
      "metadata": {
        "id": "JCWfnMBnNwbn"
      },
      "id": "JCWfnMBnNwbn",
      "execution_count": null,
      "outputs": []
    },
    {
      "cell_type": "code",
      "source": [
        "print(\"Hello\" \"World!\")"
      ],
      "metadata": {
        "id": "Te2VWnkuNz8z"
      },
      "id": "Te2VWnkuNz8z",
      "execution_count": null,
      "outputs": []
    },
    {
      "cell_type": "code",
      "source": [
        "print(\"Hello\", \"World!\")"
      ],
      "metadata": {
        "id": "Stcz87ykN2Yy"
      },
      "id": "Stcz87ykN2Yy",
      "execution_count": null,
      "outputs": []
    },
    {
      "cell_type": "code",
      "metadata": {
        "id": "eXxouQFLvsq2"
      },
      "source": [
        "print(\"Hello {}\".format(\"World\"))"
      ],
      "id": "eXxouQFLvsq2",
      "execution_count": null,
      "outputs": []
    },
    {
      "cell_type": "code",
      "metadata": {
        "id": "t4ldoOHUK_b4"
      },
      "source": [
        "print(\"Hello {} {}\".format(\"World\",\"!!!\"))"
      ],
      "id": "t4ldoOHUK_b4",
      "execution_count": null,
      "outputs": []
    },
    {
      "cell_type": "code",
      "source": [
        "name = \"John Doe\"\n",
        "print(f\"My name is {name}\")"
      ],
      "metadata": {
        "id": "2K2uy91ZOEz2"
      },
      "id": "2K2uy91ZOEz2",
      "execution_count": null,
      "outputs": []
    },
    {
      "cell_type": "code",
      "metadata": {
        "id": "JZ313KWLv40R"
      },
      "source": [
        "quantity = 3\n",
        "itemno = 567\n",
        "price = 49.95\n",
        "myorder = \"I want to pay {} dollars for {} pieces of item {}.\"\n",
        "print(myorder.format(quantity, itemno, price))"
      ],
      "id": "JZ313KWLv40R",
      "execution_count": null,
      "outputs": []
    },
    {
      "cell_type": "code",
      "source": [
        "f\"I want to pay {quantity} dollars for {itemno} pieces of item {price}.\""
      ],
      "metadata": {
        "id": "CLkZhUISOU-y"
      },
      "id": "CLkZhUISOU-y",
      "execution_count": null,
      "outputs": []
    },
    {
      "cell_type": "markdown",
      "source": [
        "# Misc."
      ],
      "metadata": {
        "id": "bniL6OCDbL-5"
      },
      "id": "bniL6OCDbL-5"
    },
    {
      "cell_type": "code",
      "source": [
        "# 1.\n",
        "def balaa() :\n",
        "  return xxx\n",
        "\n",
        "balaa()"
      ],
      "metadata": {
        "id": "N--1W5Gb0KfV"
      },
      "id": "N--1W5Gb0KfV",
      "execution_count": null,
      "outputs": []
    },
    {
      "cell_type": "code",
      "source": [],
      "metadata": {
        "id": "SrYG64aB-Ric"
      },
      "id": "SrYG64aB-Ric",
      "execution_count": null,
      "outputs": []
    },
    {
      "cell_type": "code",
      "source": [
        "area_of_perpendicular = lambda length, wide: length * wide"
      ],
      "metadata": {
        "id": "D6hVzFOX-SY3"
      },
      "id": "D6hVzFOX-SY3",
      "execution_count": null,
      "outputs": []
    },
    {
      "cell_type": "code",
      "source": [
        "area_of_perpendicular(3, 5)"
      ],
      "metadata": {
        "id": "RkUswrPO-fjP"
      },
      "id": "RkUswrPO-fjP",
      "execution_count": null,
      "outputs": []
    },
    {
      "cell_type": "code",
      "source": [
        "def area_of_perpendicular(length, wide):\n",
        "  area = length * wide\n",
        "  return area"
      ],
      "metadata": {
        "id": "Y1KyxZZy-l4g"
      },
      "id": "Y1KyxZZy-l4g",
      "execution_count": null,
      "outputs": []
    },
    {
      "cell_type": "code",
      "source": [
        "area_of_perpendicular(3, 5)"
      ],
      "metadata": {
        "id": "v0LmrlOO-01q"
      },
      "id": "v0LmrlOO-01q",
      "execution_count": null,
      "outputs": []
    },
    {
      "cell_type": "code",
      "source": [],
      "metadata": {
        "id": "Vvy8edGa-2Hh"
      },
      "id": "Vvy8edGa-2Hh",
      "execution_count": null,
      "outputs": []
    }
  ]
}